{
 "metadata": {
  "language_info": {
   "codemirror_mode": {
    "name": "ipython",
    "version": 3
   },
   "file_extension": ".py",
   "mimetype": "text/x-python",
   "name": "python",
   "nbconvert_exporter": "python",
   "pygments_lexer": "ipython3",
   "version": "3.9.0"
  },
  "orig_nbformat": 4,
  "kernelspec": {
   "name": "python3",
   "display_name": "Python 3.9.0 64-bit ('Python39')"
  },
  "interpreter": {
   "hash": "247ab06e135bb35fa78c5eff31b2a9a0050dcb5fb773c2631d2a29ac689eeccb"
  }
 },
 "nbformat": 4,
 "nbformat_minor": 2,
 "cells": [
  {
   "cell_type": "markdown",
   "source": [
    "# 그래프 \r\n",
    "\r\n"
   ],
   "metadata": {}
  },
  {
   "cell_type": "code",
   "execution_count": 14,
   "source": [
    "import collections"
   ],
   "outputs": [],
   "metadata": {}
  },
  {
   "cell_type": "markdown",
   "source": [
    "## Graph Search "
   ],
   "metadata": {}
  },
  {
   "cell_type": "markdown",
   "source": [
    "### DFS"
   ],
   "metadata": {}
  },
  {
   "cell_type": "code",
   "execution_count": 3,
   "source": [
    "def recursive_dfs(v, discovered = []):\r\n",
    "    discovered.append(v)\r\n",
    "    for w in graph[v]:\r\n",
    "        if not w in discovered:\r\n",
    "            discovered = recursive_dfs(w, discovered)\r\n",
    "    return discovered"
   ],
   "outputs": [],
   "metadata": {}
  },
  {
   "cell_type": "code",
   "execution_count": 4,
   "source": [
    "def iterative_dfs(start_v):\r\n",
    "    discovered = []\r\n",
    "    stack = [start_v]\r\n",
    "    while stack: \r\n",
    "        v = stack.pop()\r\n",
    "        if v not in discovered:\r\n",
    "            discovered.append(v)\r\n",
    "            for w in graph[v]:\r\n",
    "                stack.append(w)\r\n",
    "    return discovered"
   ],
   "outputs": [],
   "metadata": {}
  },
  {
   "cell_type": "markdown",
   "source": [
    "### BFS\r\n"
   ],
   "metadata": {}
  },
  {
   "cell_type": "code",
   "execution_count": 5,
   "source": [
    "def iterative_bfs(start_v):\r\n",
    "    discovered = [start_v]\r\n",
    "    queue = [start_v]\r\n",
    "    while queue:\r\n",
    "        v = queue.pop(0) # 최적화하려면 deque 사용 \r\n",
    "        for w in graph[v]:\r\n",
    "            if w not in discovered:\r\n",
    "                discovered.append(w)\r\n",
    "                queue.append(w)\r\n",
    "    return discovered"
   ],
   "outputs": [],
   "metadata": {}
  },
  {
   "cell_type": "markdown",
   "source": [
    "### 백트래킹\r\n",
    "\r\n",
    "백트래킹(Backtracking)은 해결책에 대한 후보를 구축해 나아가다 가능성이 없다고 판단되는 즉시 후보를 포기(Backtrack)해 정답을 찾아가는 범용적인 알고리즘으로 제약 충족 문제(Constraint Satisfaction Problems)에 특히 유용하다.\r\n",
    "\r\n",
    "### 제약 충족 문제 \r\n"
   ],
   "metadata": {}
  },
  {
   "cell_type": "markdown",
   "source": [
    "## 섬의 개수"
   ],
   "metadata": {}
  },
  {
   "cell_type": "code",
   "execution_count": 6,
   "source": [
    "class Solution:\r\n",
    "    def numIslands(self, grid: List[List[str]]) -> int:\r\n",
    "        def dfs(i, j):\r\n",
    "            if i < 0 or j >= len(grid) or \\\r\n",
    "                j < 0 or i >= len(grid[0]) or \\\r\n",
    "                    grid[i][j] != '1':\r\n",
    "                    return \r\n",
    "            grid[i][j] = '0'\r\n",
    "        \r\n",
    "            dfs(i + 1, j)\r\n",
    "            dfs(i - 1, j)\r\n",
    "            dfs(i, j + 1)\r\n",
    "            dfs(i, j - 1)\r\n",
    "        \r\n",
    "        count = 0 \r\n",
    "        for i in range(len(grid)):\r\n",
    "            for j in range(len(grid[0])):\r\n",
    "                if grid[i][j] == 1:\r\n",
    "                    dfs(i, j)\r\n",
    "                    count += 1 \r\n",
    "\r\n",
    "        return count \r\n"
   ],
   "outputs": [
    {
     "output_type": "error",
     "ename": "NameError",
     "evalue": "name 'List' is not defined",
     "traceback": [
      "\u001b[1;31m---------------------------------------------------------------------------\u001b[0m",
      "\u001b[1;31mNameError\u001b[0m                                 Traceback (most recent call last)",
      "\u001b[1;32m<ipython-input-6-3072ae7ea21d>\u001b[0m in \u001b[0;36m<module>\u001b[1;34m\u001b[0m\n\u001b[1;32m----> 1\u001b[1;33m \u001b[1;32mclass\u001b[0m \u001b[0mSolution\u001b[0m\u001b[1;33m:\u001b[0m\u001b[1;33m\u001b[0m\u001b[1;33m\u001b[0m\u001b[0m\n\u001b[0m\u001b[0;32m      2\u001b[0m     \u001b[1;32mdef\u001b[0m \u001b[0mnumIslands\u001b[0m\u001b[1;33m(\u001b[0m\u001b[0mself\u001b[0m\u001b[1;33m,\u001b[0m \u001b[0mgrid\u001b[0m\u001b[1;33m:\u001b[0m \u001b[0mList\u001b[0m\u001b[1;33m[\u001b[0m\u001b[0mList\u001b[0m\u001b[1;33m[\u001b[0m\u001b[0mstr\u001b[0m\u001b[1;33m]\u001b[0m\u001b[1;33m]\u001b[0m\u001b[1;33m)\u001b[0m \u001b[1;33m->\u001b[0m \u001b[0mint\u001b[0m\u001b[1;33m:\u001b[0m\u001b[1;33m\u001b[0m\u001b[1;33m\u001b[0m\u001b[0m\n\u001b[0;32m      3\u001b[0m         \u001b[1;32mdef\u001b[0m \u001b[0mdfs\u001b[0m\u001b[1;33m(\u001b[0m\u001b[0mi\u001b[0m\u001b[1;33m,\u001b[0m \u001b[0mj\u001b[0m\u001b[1;33m)\u001b[0m\u001b[1;33m:\u001b[0m\u001b[1;33m\u001b[0m\u001b[1;33m\u001b[0m\u001b[0m\n\u001b[0;32m      4\u001b[0m             \u001b[1;32mif\u001b[0m \u001b[0mi\u001b[0m \u001b[1;33m<\u001b[0m \u001b[1;36m0\u001b[0m \u001b[1;32mor\u001b[0m \u001b[0mj\u001b[0m \u001b[1;33m>=\u001b[0m \u001b[0mlen\u001b[0m\u001b[1;33m(\u001b[0m\u001b[0mgrid\u001b[0m\u001b[1;33m)\u001b[0m \u001b[1;32mor\u001b[0m\u001b[0;31m \u001b[0m\u001b[0;31m\\\u001b[0m\u001b[1;33m\u001b[0m\u001b[1;33m\u001b[0m\u001b[0m\n\u001b[0;32m      5\u001b[0m                 \u001b[0mj\u001b[0m \u001b[1;33m<\u001b[0m \u001b[1;36m0\u001b[0m \u001b[1;32mor\u001b[0m \u001b[0mi\u001b[0m \u001b[1;33m>=\u001b[0m \u001b[0mlen\u001b[0m\u001b[1;33m(\u001b[0m\u001b[0mgrid\u001b[0m\u001b[1;33m[\u001b[0m\u001b[1;36m0\u001b[0m\u001b[1;33m]\u001b[0m\u001b[1;33m)\u001b[0m \u001b[1;32mor\u001b[0m\u001b[0;31m \u001b[0m\u001b[0;31m\\\u001b[0m\u001b[1;33m\u001b[0m\u001b[1;33m\u001b[0m\u001b[0m\n",
      "\u001b[1;32m<ipython-input-6-3072ae7ea21d>\u001b[0m in \u001b[0;36mSolution\u001b[1;34m()\u001b[0m\n\u001b[0;32m      1\u001b[0m \u001b[1;32mclass\u001b[0m \u001b[0mSolution\u001b[0m\u001b[1;33m:\u001b[0m\u001b[1;33m\u001b[0m\u001b[1;33m\u001b[0m\u001b[0m\n\u001b[1;32m----> 2\u001b[1;33m     \u001b[1;32mdef\u001b[0m \u001b[0mnumIslands\u001b[0m\u001b[1;33m(\u001b[0m\u001b[0mself\u001b[0m\u001b[1;33m,\u001b[0m \u001b[0mgrid\u001b[0m\u001b[1;33m:\u001b[0m \u001b[0mList\u001b[0m\u001b[1;33m[\u001b[0m\u001b[0mList\u001b[0m\u001b[1;33m[\u001b[0m\u001b[0mstr\u001b[0m\u001b[1;33m]\u001b[0m\u001b[1;33m]\u001b[0m\u001b[1;33m)\u001b[0m \u001b[1;33m->\u001b[0m \u001b[0mint\u001b[0m\u001b[1;33m:\u001b[0m\u001b[1;33m\u001b[0m\u001b[1;33m\u001b[0m\u001b[0m\n\u001b[0m\u001b[0;32m      3\u001b[0m         \u001b[1;32mdef\u001b[0m \u001b[0mdfs\u001b[0m\u001b[1;33m(\u001b[0m\u001b[0mi\u001b[0m\u001b[1;33m,\u001b[0m \u001b[0mj\u001b[0m\u001b[1;33m)\u001b[0m\u001b[1;33m:\u001b[0m\u001b[1;33m\u001b[0m\u001b[1;33m\u001b[0m\u001b[0m\n\u001b[0;32m      4\u001b[0m             \u001b[1;32mif\u001b[0m \u001b[0mi\u001b[0m \u001b[1;33m<\u001b[0m \u001b[1;36m0\u001b[0m \u001b[1;32mor\u001b[0m \u001b[0mj\u001b[0m \u001b[1;33m>=\u001b[0m \u001b[0mlen\u001b[0m\u001b[1;33m(\u001b[0m\u001b[0mgrid\u001b[0m\u001b[1;33m)\u001b[0m \u001b[1;32mor\u001b[0m\u001b[0;31m \u001b[0m\u001b[0;31m\\\u001b[0m\u001b[1;33m\u001b[0m\u001b[1;33m\u001b[0m\u001b[0m\n\u001b[0;32m      5\u001b[0m                 \u001b[0mj\u001b[0m \u001b[1;33m<\u001b[0m \u001b[1;36m0\u001b[0m \u001b[1;32mor\u001b[0m \u001b[0mi\u001b[0m \u001b[1;33m>=\u001b[0m \u001b[0mlen\u001b[0m\u001b[1;33m(\u001b[0m\u001b[0mgrid\u001b[0m\u001b[1;33m[\u001b[0m\u001b[1;36m0\u001b[0m\u001b[1;33m]\u001b[0m\u001b[1;33m)\u001b[0m \u001b[1;32mor\u001b[0m\u001b[0;31m \u001b[0m\u001b[0;31m\\\u001b[0m\u001b[1;33m\u001b[0m\u001b[1;33m\u001b[0m\u001b[0m\n",
      "\u001b[1;31mNameError\u001b[0m: name 'List' is not defined"
     ]
    }
   ],
   "metadata": {}
  },
  {
   "cell_type": "markdown",
   "source": [
    "## 전화 번호 문자 조합 "
   ],
   "metadata": {}
  },
  {
   "cell_type": "markdown",
   "source": [
    "itertools.product & functools.reduce 사용 "
   ],
   "metadata": {}
  },
  {
   "cell_type": "code",
   "execution_count": null,
   "source": [
    "import itertools\r\n",
    "from functools import reduce\r\n",
    "\r\n",
    "class Solution:\r\n",
    "    def letterCombinations(self, digits: str):\r\n",
    "        \r\n",
    "        if not digits:\r\n",
    "            return []\r\n",
    "\r\n",
    "        dic = {\r\n",
    "            \"2\": \"abc\",\r\n",
    "            \"3\": \"def\",\r\n",
    "            \"4\": \"ghi\",\r\n",
    "            \"5\": \"jkl\",\r\n",
    "            \"6\": \"mno\",\r\n",
    "            \"7\": \"pqrs\",\r\n",
    "            \"8\": \"tuv\",\r\n",
    "            \"9\": \"wxyz\",\r\n",
    "        }\r\n",
    "\r\n",
    "        digits_list =  [dic[x] for x in digits]\r\n",
    "        result = []\r\n",
    "\r\n",
    "        for x in itertools.product(*digits_list):\r\n",
    "            total = reduce(lambda a, b: a + b, x)\r\n",
    "            result.append(total)\r\n",
    "\r\n",
    "        return result"
   ],
   "outputs": [],
   "metadata": {}
  },
  {
   "cell_type": "code",
   "execution_count": null,
   "source": [
    "sol = Solution()\r\n",
    "print(sol.letterCombinations(\"2\"))\r\n"
   ],
   "outputs": [
    {
     "output_type": "stream",
     "name": "stdout",
     "text": [
      "['a', 'b', 'c']\n"
     ]
    }
   ],
   "metadata": {}
  },
  {
   "cell_type": "markdown",
   "source": [
    "백트래킹"
   ],
   "metadata": {}
  },
  {
   "cell_type": "code",
   "execution_count": 7,
   "source": [
    "from typing import List\r\n",
    "\r\n",
    "\r\n",
    "class Solution:\r\n",
    "    def letterCombinations(self, digits: str) -> List[str]:\r\n",
    "        def dfs(index, path):\r\n",
    "            # 끝까지 탐색하면 백트래킹\r\n",
    "            if len(path) == len(digits):\r\n",
    "                result.append(path)\r\n",
    "                return\r\n",
    "\r\n",
    "            # 입력값 자릿수 단위 반복\r\n",
    "            for i in range(index, len(digits)):\r\n",
    "                # 숫자에 해당하는 모든 문자열 반복\r\n",
    "                for j in dic[digits[i]]:\r\n",
    "                    dfs(i + 1, path + j)\r\n",
    "\r\n",
    "        # 예외 처리\r\n",
    "        if not digits:\r\n",
    "            return []\r\n",
    "\r\n",
    "        dic = {\"2\": \"abc\", \"3\": \"def\", \"4\": \"ghi\", \"5\": \"jkl\",\r\n",
    "               \"6\": \"mno\", \"7\": \"pqrs\", \"8\": \"tuv\", \"9\": \"wxyz\"}\r\n",
    "        result = []\r\n",
    "        dfs(0, \"\")\r\n",
    "\r\n",
    "        return result"
   ],
   "outputs": [],
   "metadata": {}
  },
  {
   "cell_type": "markdown",
   "source": [
    "## 조합의 합"
   ],
   "metadata": {}
  },
  {
   "cell_type": "code",
   "execution_count": 8,
   "source": [
    "from typing import List\r\n",
    "\r\n",
    "class Solution:\r\n",
    "    def combinationSum(self, candidates: List[int], target: int) -> List[List[int]]:\r\n",
    "        \r\n",
    "        result = []\r\n",
    "        \r\n",
    "        def dfs(csum, index, path):\r\n",
    "            if csum < 0:\r\n",
    "                return \r\n",
    "            elif csum == 0:\r\n",
    "                result.append(path)\r\n",
    "                return result \r\n",
    "            \r\n",
    "            for i in range(index, len(candidates)):\r\n",
    "                dfs(csum - candidates[i], i, path + [candidates[i]])\r\n",
    "    \r\n",
    "        \r\n",
    "        dfs(target, 0, [])\r\n",
    "        \r\n",
    "        return result "
   ],
   "outputs": [],
   "metadata": {}
  },
  {
   "cell_type": "markdown",
   "source": [
    "## 부분 집합 "
   ],
   "metadata": {}
  },
  {
   "cell_type": "code",
   "execution_count": 9,
   "source": [
    "class Solution:\r\n",
    "    def subsets(self, nums: List[int]) -> List[List[int]]:\r\n",
    "        result = []\r\n",
    "        for x in range(len(nums) + 1):\r\n",
    "            result.extend(itertools.combinations(nums, x))\r\n",
    "        result = [list(x) for x in result]\r\n",
    "            \r\n",
    "        return result"
   ],
   "outputs": [],
   "metadata": {}
  },
  {
   "cell_type": "markdown",
   "source": [
    "## 일정 재구성 \n",
    "\n",
    "### DFS로 일정 그래프 구성"
   ],
   "metadata": {}
  },
  {
   "cell_type": "code",
   "execution_count": 10,
   "source": [
    "tickets = [[\"JFK\",\"SFO\"],[\"JFK\",\"ATL\"],[\"SFO\",\"ATL\"],[\"ATL\",\"JFK\"],[\"ATL\",\"SFO\"]]\r\n"
   ],
   "outputs": [],
   "metadata": {}
  },
  {
   "cell_type": "code",
   "execution_count": 11,
   "source": [
    "class Solution:\r\n",
    "    def findItinerary(self, tickets: List[List[str]]) -> List[str]:\r\n",
    "        graph = collections.defaultdict(list)\r\n",
    "        # 그래프 순서대로 구성 \r\n",
    "        for a, b in sorted(tickets):\r\n",
    "            graph[a].append(b)\r\n",
    "\r\n",
    "        route = []\r\n",
    "        def dfs(a):\r\n",
    "            while graph[a]:\r\n",
    "                dfs(graph[a].pop(0))\r\n",
    "            route.append(a)\r\n",
    "        \r\n",
    "        dfs('JFK')\r\n",
    "        return route[::-1]"
   ],
   "outputs": [],
   "metadata": {}
  },
  {
   "cell_type": "markdown",
   "source": [
    "### 스택 연산으로 큐 연산 최적화 시도 \n",
    "\n",
    "pop()은 O(1)이지만 pop(0)은 O(n)이다. 따라서 pop()으로 바꿔보자.\n",
    "전체 딕셔너리가 아닌 각 키별 리스트의 입력값이 그리 크지 않아서 성능 차이는 그렇게 없다. "
   ],
   "metadata": {}
  },
  {
   "cell_type": "code",
   "execution_count": 12,
   "source": [
    "class Solution:\r\n",
    "    def findItinerary(self, tickets: List[List[str]]) -> List[str]:\r\n",
    "        graph = collections.defaultdict(list)\r\n",
    "        # 그래프 순서대로 구성 \r\n",
    "        for a, b in sorted(tickets, reverse=True):\r\n",
    "            graph[a].append(b)\r\n",
    "\r\n",
    "        route = []\r\n",
    "        def dfs(a):\r\n",
    "            while graph[a]:\r\n",
    "                dfs(graph[a].pop())\r\n",
    "            route.append(a)\r\n",
    "        \r\n",
    "        dfs('JFK')\r\n",
    "        return route[::-1]"
   ],
   "outputs": [],
   "metadata": {}
  },
  {
   "cell_type": "markdown",
   "source": [
    "### 일정 그래프 반복 "
   ],
   "metadata": {}
  },
  {
   "cell_type": "code",
   "execution_count": 13,
   "source": [
    "class Solution:\r\n",
    "    def findItinerary(self, tickets: List[List[str]]) -> List[str]:\r\n",
    "        graph = collections.defaultdict(list)\r\n",
    "        # 그래프 순서대로 구성 \r\n",
    "        for a, b in sorted(tickets, reverse=True):\r\n",
    "            graph[a].append(b)\r\n",
    "\r\n",
    "        route, stack = [], ['JFK']\r\n",
    "        while stack:\r\n",
    "            while graph[stack[-1]]:\r\n",
    "                stack.append(graph[stack[-1]].pop(0))\r\n",
    "            route.append(stack.pop())\r\n",
    "        \r\n",
    "        return route[::-1]"
   ],
   "outputs": [],
   "metadata": {}
  },
  {
   "cell_type": "markdown",
   "source": [
    "# 최단 경로 문제 \r\n",
    "\r\n",
    "## 네트워크 딜레이 타임 \r\n",
    "\r\n",
    "### 다익스트라 알고리즘 구현 \r\n"
   ],
   "metadata": {}
  },
  {
   "cell_type": "code",
   "execution_count": null,
   "source": [
    "import heapq \r\n",
    "\r\n",
    "def dijkstra(graph, start):\r\n",
    "    distances = {node: float('inf') for node in graph}\r\n",
    "    distances[start] = 0 \r\n",
    "    queue = []\r\n",
    "    heqaq.heappush(queue, [distances[start], start])\r\n",
    "\r\n",
    "    while queue:\r\n",
    "        current_distance, current_destination = heapq.heappop(queue)\r\n",
    "\r\n",
    "        if distances[current_destination] < current_distance: # 한바퀴 돌고왔더니 원래 거리가 더 짧은 경우\r\n",
    "            continue \r\n",
    "\r\n",
    "        for new_destination, new_distance in graph[current_destination].items():\r\n",
    "            distance = current_distance + new_distance\r\n",
    "            if distance < distances[new_destination]:\r\n",
    "                distances[new_destination] = distance\r\n",
    "                heapq.heappush(queue, [distance, new_destination])\r\n",
    "                \r\n",
    "    return distances"
   ],
   "outputs": [],
   "metadata": {}
  },
  {
   "cell_type": "code",
   "execution_count": null,
   "source": [
    "class Solution:\r\n",
    "    def networkDelayTime(self, times: List[List[int]], n: int, k: int):\r\n",
    "        graph = collections.defaultdict(list)\r\n",
    "        for u, v, w in times:\r\n",
    "            graph[u].append((v, w))\r\n",
    "\r\n",
    "        # 큐 변수 : [(소요 시간, 정점)]\r\n",
    "        Q = [(0, k)]\r\n",
    "        dist = collections.defaultdict(int)\r\n",
    "\r\n",
    "        # 우선순위 큐 최솟값 기준으로 정점까지 최단 경로 삽입\r\n",
    "        while Q:\r\n",
    "            time, node = heapq.heappop(Q)\r\n",
    "            if node not in dist: # 위 코드에 if distances[current_destination] < curr...와 동일\r\n",
    "                dist[node] = time\r\n",
    "                for v, w in graph[node]:\r\n",
    "                    alt = time + w\r\n",
    "                    heapq.heappush(Q, (alt, v))\r\n",
    "\r\n",
    "        # 모든 노드의 최단 경로 존재 여부 판별\r\n",
    "        if len(dist) == n:\r\n",
    "            return max(dist.values())\r\n",
    "        return -1"
   ],
   "outputs": [],
   "metadata": {}
  },
  {
   "cell_type": "markdown",
   "source": [
    "## K 경유지 내 가장 저렴한 항공권 "
   ],
   "metadata": {}
  },
  {
   "cell_type": "code",
   "execution_count": null,
   "source": [
    "def findCheapestPrice(self, n: int, flights: List[List[int]], src: int, dst: int, K: int):\r\n",
    "    graph = collections.defaultdict(list)\r\n",
    "    # 그래프 인접 리스트 구성 \r\n",
    "    for u, v, w in flights:\r\n",
    "        graph[u].append((v, w))\r\n",
    "\r\n",
    "    # 큐 변수: [(가격, 정점, 남은 가능 경유지 수)]\r\n",
    "    Q = [(0, src, K)]\r\n",
    "\r\n",
    "    # 우선순위 큐 최솟값 기준으로 도착점까지 최소 비용 판별 \r\n",
    "    while Q:\r\n",
    "        price, node, k = heapq.heappop(Q)\r\n",
    "        if node == dst:\r\n",
    "            return price \r\n",
    "        if k >= 0:\r\n",
    "            for v, w in graph[node]:\r\n",
    "                alt = price + w \r\n",
    "                heapq.heappush(Q, (alt, v, k - 1))\r\n",
    "\r\n",
    "    return -1 "
   ],
   "outputs": [],
   "metadata": {}
  },
  {
   "cell_type": "markdown",
   "source": [
    "# 트리 \r\n",
    "\r\n",
    "## 이진 트리의 최대 깊이"
   ],
   "metadata": {}
  },
  {
   "cell_type": "code",
   "execution_count": null,
   "source": [
    "class Solution:\r\n",
    "    def maxDepth(self, root: TreeNode):\r\n",
    "        if root is None:\r\n",
    "            return 0 \r\n",
    "\r\n",
    "        queue = collections.deque([root])\r\n",
    "        depth = 0 \r\n",
    "\r\n",
    "        while queue: \r\n",
    "            depth += 1\r\n",
    "            for _ in range(len(queue)):\r\n",
    "                cur_root = queue.popleft()\r\n",
    "                if cur_root.left:\r\n",
    "                    queue.append(cur_root.left)\r\n",
    "                if cur_root.right:\r\n",
    "                    queue.append(cur_root.right)\r\n",
    "        # BFS 반복 횟수 == 깊이 \r\n",
    "        return depth "
   ],
   "outputs": [],
   "metadata": {}
  },
  {
   "cell_type": "markdown",
   "source": [
    "## 이진 트리의 직경 "
   ],
   "metadata": {}
  },
  {
   "cell_type": "code",
   "execution_count": null,
   "source": [
    "class Solution:\r\n",
    "    longest: int = 0 \r\n",
    "\r\n",
    "    def diameterOfBinaryTree(self, root: TreeNode):\r\n",
    "        def dfs(node: TreeNode):\r\n",
    "            if not node: \r\n",
    "                return -1 \r\n",
    "            # 왼쪽, 오른쪽의 각 리프 노드까지 탐색 \r\n",
    "            left = dfs(node.left)\r\n",
    "            right = dfs(node.right)\r\n",
    "\r\n",
    "            # 가장 긴 경로 \r\n",
    "            self.longest = max(self.longest, left + right + 2)\r\n",
    "            # 상태값 \r\n",
    "            return max(left, right) + 1 \r\n",
    "\r\n",
    "        dfs(root)\r\n",
    "        return self.longest \r\n",
    "            \r\n",
    "        "
   ],
   "outputs": [],
   "metadata": {}
  },
  {
   "cell_type": "markdown",
   "source": [
    "## 가장 긴 동일 값의 경로 "
   ],
   "metadata": {}
  },
  {
   "cell_type": "code",
   "execution_count": null,
   "source": [
    "class Solution:\r\n",
    "    result: int = 0\r\n",
    "    def longestUnivaluePath(self, root: TreeNode):\r\n",
    "        def dfs(node: TreeNode):\r\n",
    "            if node is None:\r\n",
    "                return 0 \r\n",
    "\r\n",
    "            # 존재하지 않는 노드까지 DFS 재귀 탐색 \r\n",
    "            left = dfs(node.left)\r\n",
    "            right = dfs(node.right)\r\n",
    "\r\n",
    "            # 현재 노드가 자식 노드와 동일한 경우 거리 1 증가 \r\n",
    "            if node.val and node.left.val == node.val:\r\n",
    "                left += 1 \r\n",
    "            else: \r\n",
    "                left = 0 \r\n",
    "            if node.val and node.right.val == node.val:\r\n",
    "                right += 1 \r\n",
    "            else: \r\n",
    "                right = 0 \r\n",
    "\r\n",
    "            # 왼쪽과 오른쪽 자식 노드 간 거리의 합 최댓값이 결과 \r\n",
    "            self.result = max(self.result, left + right)\r\n",
    "            return max(left, right)\r\n",
    "        \r\n",
    "        dfs(root)\r\n",
    "        return self.result \r\n",
    "\r\n",
    "        "
   ],
   "outputs": [],
   "metadata": {}
  },
  {
   "cell_type": "markdown",
   "source": [
    "## 균형 이진 트리 "
   ],
   "metadata": {}
  },
  {
   "cell_type": "code",
   "execution_count": null,
   "source": [
    "class Solution:\r\n",
    "    def isBalanced(self, root: TreeNode):\r\n",
    "        def check(root):\r\n",
    "            if not root:\r\n",
    "                return 0 \r\n",
    "            \r\n",
    "            left = check(root.left)\r\n",
    "            right = check(root.right)\r\n",
    "            # 높게 차이가 나는 경우 -1, 이외에는 높이에 따라 1 증가\r\n",
    "            if left == -1 or right == -1 or abs(left - right) > 1:\r\n",
    "                return -1 \r\n",
    "\r\n",
    "            return max(left, right) + 1\r\n",
    "        \r\n",
    "        return check(root) != -1 "
   ],
   "outputs": [],
   "metadata": {}
  },
  {
   "cell_type": "markdown",
   "source": [
    "## 최소 높이 트리 "
   ],
   "metadata": {}
  },
  {
   "cell_type": "code",
   "execution_count": null,
   "source": [
    "class Solution:\r\n",
    "    def findMinHeightTrees(self, n: int, edges: List[List[int]]):\r\n",
    "        if n <= 1:\r\n",
    "            return [0]\r\n",
    "        \r\n",
    "        # 양방향 그래프 구성 \r\n",
    "        graph = collections.defaultdict(list)\r\n",
    "        for i, j in edges:\r\n",
    "            graph[i].append(j)\r\n",
    "            graph[j].append(i)\r\n",
    "\r\n",
    "        # 첫 번째 리프 노드 추가 \r\n",
    "        leaves = []\r\n",
    "        for i in range(n + 1):\r\n",
    "            if len(graph[i]) == 1:\r\n",
    "                leaves.append(i)\r\n",
    "\r\n",
    "        # 루트 노드만 남을 때까지 반복 제거 \r\n",
    "        while n > 2:\r\n",
    "            n -= len(leaves)\r\n",
    "            new_leaves = []\r\n",
    "            for leaf in leaves:\r\n",
    "                neighbor = graph[leaf].pop()\r\n",
    "                graph[neighbor].remove(leaf)\r\n",
    "            \r\n",
    "            if len(graph[neighbor]) == 1:\r\n",
    "                new_leaves.append(neighbor)\r\n",
    "            \r\n",
    "            leaves = new_leaves\r\n",
    "\r\n",
    "        return leaves "
   ],
   "outputs": [],
   "metadata": {}
  },
  {
   "cell_type": "code",
   "execution_count": 1,
   "source": [
    "temp = [1, 2, 3, 4]\r\n",
    "temp.pop()\r\n",
    "temp "
   ],
   "outputs": [
    {
     "output_type": "execute_result",
     "data": {
      "text/plain": [
       "[1, 2, 3]"
      ]
     },
     "metadata": {},
     "execution_count": 1
    }
   ],
   "metadata": {}
  }
 ]
}