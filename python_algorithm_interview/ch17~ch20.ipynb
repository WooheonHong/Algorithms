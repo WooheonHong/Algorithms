{
    "cells": [
        {
            "cell_type": "markdown",
            "source": [
                "# 정렬 \r\n",
                "\r\n",
                "## 리스트 정렬"
            ],
            "metadata": {}
        },
        {
            "cell_type": "markdown",
            "source": [
                "## 퀵 정렬"
            ],
            "metadata": {}
        },
        {
            "cell_type": "code",
            "execution_count": 22,
            "source": [
                "from typing import List"
            ],
            "outputs": [],
            "metadata": {}
        },
        {
            "cell_type": "code",
            "execution_count": 6,
            "source": [
                "def quickSort(arr, start, end):\r\n",
                "    if start < end:\r\n",
                "        pivot = partition(arr, start, end)\r\n",
                "        quickSort(arr, start, pivot-1)\r\n",
                "        quickSort(arr, pivot, end)\r\n",
                "    return arr "
            ],
            "outputs": [],
            "metadata": {}
        },
        {
            "cell_type": "code",
            "execution_count": 7,
            "source": [
                "def lomuto_partition(arr, start, end):\r\n",
                "    pivot = arr[end]\r\n",
                "    left = start\r\n",
                "    for right in range(left, end):\r\n",
                "        if arr[right] < pivot:\r\n",
                "            arr[left], arr[right] = arr[right], arr[left]\r\n",
                "            left += 1 \r\n",
                "    arr[left], arr[end] = arr[end], arr[left]\r\n",
                "    return left "
            ],
            "outputs": [
                {
                    "output_type": "error",
                    "ename": "SyntaxError",
                    "evalue": "invalid syntax (<ipython-input-7-292ed962ed66>, line 4)",
                    "traceback": [
                        "\u001b[1;36m  File \u001b[1;32m\"<ipython-input-7-292ed962ed66>\"\u001b[1;36m, line \u001b[1;32m4\u001b[0m\n\u001b[1;33m    for right in range(left, end)\u001b[0m\n\u001b[1;37m                                 ^\u001b[0m\n\u001b[1;31mSyntaxError\u001b[0m\u001b[1;31m:\u001b[0m invalid syntax\n"
                    ]
                }
            ],
            "metadata": {}
        },
        {
            "cell_type": "code",
            "execution_count": null,
            "source": [
                "def hoare_partition(arr, start, end):\r\n",
                "    pivot = arr[start]\r\n",
                "    left = start + 1\r\n",
                "    right = end \r\n",
                "    done = False \r\n",
                "    while not done: \r\n",
                "        while left <= right and arr[left] <= pivot: \r\n",
                "            left = left + 1 \r\n",
                "        while arr[right] >= pivot and right >= left: \r\n",
                "            right = right - 1\r\n",
                "        if rihgt < left:\r\n",
                "            done = True \r\n",
                "        else:\r\n",
                "            arr[left], arr[right] = arr[right], arr[left]\r\n",
                "    arr[start], arr[right] = arr[right], arr[start]\r\n",
                "return right "
            ],
            "outputs": [],
            "metadata": {}
        },
        {
            "cell_type": "code",
            "execution_count": 8,
            "source": [
                "def quicksortBetter(arr):\r\n",
                "    if len(arr) <= 1:\r\n",
                "        return arr\r\n",
                "    pivot = arr[len(arr) // 2]\r\n",
                "    left = [x for x in arr if x < pivot]\r\n",
                "    middle = [x for x in arr if x == pivot]\r\n",
                "    right = [x for x in arr if x > pivot]\r\n",
                "    return quicksortBetter(left) + middle + quicksortBetter(right)"
            ],
            "outputs": [],
            "metadata": {}
        },
        {
            "cell_type": "code",
            "execution_count": 18,
            "source": [
                "class Solution:\r\n",
                "    def sortColors(self, nums):\r\n",
                "        \"\"\"\r\n",
                "        Do not return anything, modify nums in-place instead.\r\n",
                "        \"\"\"\r\n",
                "        red, white, blue = 0, 0, len(nums)\r\n",
                "\r\n",
                "        while white < blue:\r\n",
                "            if nums[white] < 1:\r\n",
                "                nums[red], nums[white] = nums[white], nums[red]\r\n",
                "                white += 1\r\n",
                "                red += 1 \r\n",
                "            elif nums[white] > 1:\r\n",
                "                blue -= 1\r\n",
                "                nums[white], nums[blue] = nums[blue], nums[white]\r\n",
                "            else:\r\n",
                "                white += 1\r\n",
                "\r\n"
            ],
            "outputs": [],
            "metadata": {}
        },
        {
            "cell_type": "code",
            "execution_count": 20,
            "source": [
                "if __name__ == \"__main__\":\r\n",
                "    List = [2,0,2,1,1,0]\r\n",
                "    s = Solution()\r\n",
                "    s.sortColors(List)"
            ],
            "outputs": [
                {
                    "output_type": "stream",
                    "name": "stdout",
                    "text": [
                        "[0, 0, 1, 1, 2, 2]\n"
                    ]
                }
            ],
            "metadata": {}
        },
        {
            "cell_type": "markdown",
            "source": [
                "## 원점에 K번째로 가까운 점 "
            ],
            "metadata": {}
        },
        {
            "cell_type": "code",
            "execution_count": 36,
            "source": [
                "points = [[1,3],[-2,2]]\r\n",
                "\r\n",
                "for idx, point in enumerate(points):\r\n",
                "    print(point)\r\n",
                "        "
            ],
            "outputs": [
                {
                    "output_type": "stream",
                    "name": "stdout",
                    "text": [
                        "[1, 3]\n",
                        "[-2, 2]\n"
                    ]
                }
            ],
            "metadata": {}
        },
        {
            "cell_type": "code",
            "execution_count": 76,
            "source": [
                "class Solution:\r\n",
                "    def kClosest(self, points: List[List[int]], k: int):\r\n",
                "        distances = {idx : x**2 + y**2 for idx, (x, y) in enumerate(points)}\r\n",
                "        k_idx = [idx for idx, v in sorted(distances.items(), key=lambda item: item[1])][:k]\r\n",
                "        print(k_idx)\r\n",
                "        \r\n",
                "        return [points[x] for x in k_idx]"
            ],
            "outputs": [],
            "metadata": {}
        },
        {
            "cell_type": "code",
            "execution_count": null,
            "source": [
                "import heapq\r\n",
                "\r\n",
                "class Solution:\r\n",
                "    def kClosest(self, points: List[List[int]], k: int):\r\n",
                "        heap = []\r\n",
                "        for (x, y) in points:\r\n",
                "            dist = x**2 + y ** 2 \r\n",
                "            heapq.heappush(heap, (dist, x, y))\r\n",
                "\r\n",
                "        result = []\r\n",
                "        for _ in range(k):\r\n",
                "            (dist, x, y) = heapq.heappop(heap)\r\n",
                "            result.append((x, y))\r\n",
                "        return result\r\n"
            ],
            "outputs": [],
            "metadata": {}
        },
        {
            "cell_type": "code",
            "execution_count": 77,
            "source": [
                "if __name__ == \"__main__\":\r\n",
                "    points = [[3, 3],[5,-1], [-2, 4]]\r\n",
                "    k = 2\r\n",
                "    s = Solution()\r\n",
                "    print(s.kClosest(points, k))"
            ],
            "outputs": [
                {
                    "output_type": "stream",
                    "name": "stdout",
                    "text": [
                        "[0, 2]\n",
                        "[[3, 3], [-2, 4]]\n"
                    ]
                }
            ],
            "metadata": {}
        },
        {
            "cell_type": "markdown",
            "source": [
                "# 이진 검색 \r\n",
                "## 이진 검색 \r\n",
                "### 재귀 풀이 "
            ],
            "metadata": {}
        },
        {
            "cell_type": "code",
            "execution_count": null,
            "source": [
                "class Solution:\r\n",
                "    def search(self, nums: List[int], target: int):\r\n",
                "        def binary_search(left, right):\r\n",
                "            if left <= right:\r\n",
                "                mid = (left + right) // 2 \r\n",
                "\r\n",
                "                if nums[mid] < target:\r\n",
                "                    return binary_search(mid + 1, target)\r\n",
                "                elif nums[mid] > target:\r\n",
                "                    return binary_search(left, mid - 1)          \r\n",
                "                else:           \r\n",
                "                    return mid \r\n",
                "            else:\r\n",
                "                return -1 \r\n",
                "        \r\n",
                "        return binary_search(0, len(nums) - 1)"
            ],
            "outputs": [],
            "metadata": {}
        }
    ],
    "metadata": {
        "orig_nbformat": 4,
        "language_info": {
            "name": "python",
            "version": "3.9.0",
            "mimetype": "text/x-python",
            "codemirror_mode": {
                "name": "ipython",
                "version": 3
            },
            "pygments_lexer": "ipython3",
            "nbconvert_exporter": "python",
            "file_extension": ".py"
        },
        "kernelspec": {
            "name": "python3",
            "display_name": "Python 3.9.0 64-bit ('Python39')"
        },
        "interpreter": {
            "hash": "247ab06e135bb35fa78c5eff31b2a9a0050dcb5fb773c2631d2a29ac689eeccb"
        }
    },
    "nbformat": 4,
    "nbformat_minor": 2
}