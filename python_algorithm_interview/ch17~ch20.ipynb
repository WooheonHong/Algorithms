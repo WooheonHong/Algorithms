{
    "cells": [
        {
            "cell_type": "markdown",
            "source": [
                "# 정렬 \r\n",
                "\r\n",
                "## 리스트 정렬"
            ],
            "metadata": {}
        },
        {
            "cell_type": "markdown",
            "source": [
                "## 퀵 정렬"
            ],
            "metadata": {}
        },
        {
            "cell_type": "code",
            "execution_count": 4,
            "source": [
                "from typing import List"
            ],
            "outputs": [],
            "metadata": {}
        },
        {
            "cell_type": "code",
            "execution_count": 6,
            "source": [
                "def quickSort(arr, start, end):\r\n",
                "    if start < end:\r\n",
                "        pivot = partition(arr, start, end)\r\n",
                "        quickSort(arr, start, pivot-1)\r\n",
                "        quickSort(arr, pivot, end)\r\n",
                "    return arr "
            ],
            "outputs": [],
            "metadata": {}
        },
        {
            "cell_type": "code",
            "execution_count": 7,
            "source": [
                "def lomuto_partition(arr, start, end):\r\n",
                "    pivot = arr[end]\r\n",
                "    left = start\r\n",
                "    for right in range(left, end):\r\n",
                "        if arr[right] < pivot:\r\n",
                "            arr[left], arr[right] = arr[right], arr[left]\r\n",
                "            left += 1 \r\n",
                "    arr[left], arr[end] = arr[end], arr[left]\r\n",
                "    return left "
            ],
            "outputs": [
                {
                    "output_type": "error",
                    "ename": "SyntaxError",
                    "evalue": "invalid syntax (<ipython-input-7-292ed962ed66>, line 4)",
                    "traceback": [
                        "\u001b[1;36m  File \u001b[1;32m\"<ipython-input-7-292ed962ed66>\"\u001b[1;36m, line \u001b[1;32m4\u001b[0m\n\u001b[1;33m    for right in range(left, end)\u001b[0m\n\u001b[1;37m                                 ^\u001b[0m\n\u001b[1;31mSyntaxError\u001b[0m\u001b[1;31m:\u001b[0m invalid syntax\n"
                    ]
                }
            ],
            "metadata": {}
        },
        {
            "cell_type": "code",
            "execution_count": null,
            "source": [
                "def hoare_partition(arr, start, end):\r\n",
                "    pivot = arr[start]\r\n",
                "    left = start + 1\r\n",
                "    right = end \r\n",
                "    done = False \r\n",
                "    while not done: \r\n",
                "        while left <= right and arr[left] <= pivot: \r\n",
                "            left = left + 1 \r\n",
                "        while arr[right] >= pivot and right >= left: \r\n",
                "            right = right - 1\r\n",
                "        if rihgt < left:\r\n",
                "            done = True \r\n",
                "        else:\r\n",
                "            arr[left], arr[right] = arr[right], arr[left]\r\n",
                "    arr[start], arr[right] = arr[right], arr[start]\r\n",
                "return right "
            ],
            "outputs": [],
            "metadata": {}
        },
        {
            "cell_type": "code",
            "execution_count": 8,
            "source": [
                "def quicksortBetter(arr):\r\n",
                "    if len(arr) <= 1:\r\n",
                "        return arr\r\n",
                "    pivot = arr[len(arr) // 2]\r\n",
                "    left = [x for x in arr if x < pivot]\r\n",
                "    middle = [x for x in arr if x == pivot]\r\n",
                "    right = [x for x in arr if x > pivot]\r\n",
                "    return quicksortBetter(left) + middle + quicksortBetter(right)"
            ],
            "outputs": [],
            "metadata": {}
        },
        {
            "cell_type": "code",
            "execution_count": 18,
            "source": [
                "class Solution:\r\n",
                "    def sortColors(self, nums):\r\n",
                "        \"\"\"\r\n",
                "        Do not return anything, modify nums in-place instead.\r\n",
                "        \"\"\"\r\n",
                "        red, white, blue = 0, 0, len(nums)\r\n",
                "\r\n",
                "        while white < blue:\r\n",
                "            if nums[white] < 1:\r\n",
                "                nums[red], nums[white] = nums[white], nums[red]\r\n",
                "                white += 1\r\n",
                "                red += 1 \r\n",
                "            elif nums[white] > 1:\r\n",
                "                blue -= 1\r\n",
                "                nums[white], nums[blue] = nums[blue], nums[white]\r\n",
                "            else:\r\n",
                "                white += 1\r\n",
                "\r\n"
            ],
            "outputs": [],
            "metadata": {}
        },
        {
            "cell_type": "code",
            "execution_count": 20,
            "source": [
                "if __name__ == \"__main__\":\r\n",
                "    List = [2,0,2,1,1,0]\r\n",
                "    s = Solution()\r\n",
                "    s.sortColors(List)"
            ],
            "outputs": [
                {
                    "output_type": "stream",
                    "name": "stdout",
                    "text": [
                        "[0, 0, 1, 1, 2, 2]\n"
                    ]
                }
            ],
            "metadata": {}
        },
        {
            "cell_type": "markdown",
            "source": [
                "## 원점에 K번째로 가까운 점 "
            ],
            "metadata": {}
        },
        {
            "cell_type": "code",
            "execution_count": 36,
            "source": [
                "points = [[1,3],[-2,2]]\r\n",
                "\r\n",
                "for idx, point in enumerate(points):\r\n",
                "    print(point)\r\n",
                "        "
            ],
            "outputs": [
                {
                    "output_type": "stream",
                    "name": "stdout",
                    "text": [
                        "[1, 3]\n",
                        "[-2, 2]\n"
                    ]
                }
            ],
            "metadata": {}
        },
        {
            "cell_type": "code",
            "execution_count": 76,
            "source": [
                "class Solution:\r\n",
                "    def kClosest(self, points: List[List[int]], k: int):\r\n",
                "        distances = {idx : x**2 + y**2 for idx, (x, y) in enumerate(points)}\r\n",
                "        k_idx = [idx for idx, v in sorted(distances.items(), key=lambda item: item[1])][:k]\r\n",
                "        print(k_idx)\r\n",
                "        \r\n",
                "        return [points[x] for x in k_idx]"
            ],
            "outputs": [],
            "metadata": {}
        },
        {
            "cell_type": "code",
            "execution_count": null,
            "source": [
                "import heapq\r\n",
                "\r\n",
                "class Solution:\r\n",
                "    def kClosest(self, points: List[List[int]], k: int):\r\n",
                "        heap = []\r\n",
                "        for (x, y) in points:\r\n",
                "            dist = x**2 + y ** 2 \r\n",
                "            heapq.heappush(heap, (dist, x, y))\r\n",
                "\r\n",
                "        result = []\r\n",
                "        for _ in range(k):\r\n",
                "            (dist, x, y) = heapq.heappop(heap)\r\n",
                "            result.append((x, y))\r\n",
                "        return result\r\n"
            ],
            "outputs": [],
            "metadata": {}
        },
        {
            "cell_type": "code",
            "execution_count": 77,
            "source": [
                "if __name__ == \"__main__\":\r\n",
                "    points = [[3, 3],[5,-1], [-2, 4]]\r\n",
                "    k = 2\r\n",
                "    s = Solution()\r\n",
                "    print(s.kClosest(points, k))"
            ],
            "outputs": [
                {
                    "output_type": "stream",
                    "name": "stdout",
                    "text": [
                        "[0, 2]\n",
                        "[[3, 3], [-2, 4]]\n"
                    ]
                }
            ],
            "metadata": {}
        },
        {
            "cell_type": "markdown",
            "source": [
                "# 이진 검색 \r\n",
                "## 이진 검색 \r\n",
                "### 재귀 풀이 "
            ],
            "metadata": {}
        },
        {
            "cell_type": "code",
            "execution_count": null,
            "source": [
                "class Solution:\r\n",
                "    def search(self, nums: List[int], target: int):\r\n",
                "        def binary_search(left, right):\r\n",
                "            if left <= right:\r\n",
                "                mid = (left + right) // 2 \r\n",
                "                # 자료형을 초과하지 않는 중앙 위치 계산 \r\n",
                "                mid = left + (right - left) // 2 \r\n",
                "\r\n",
                "                if nums[mid] < target:\r\n",
                "                    return binary_search(mid + 1, target)\r\n",
                "                elif nums[mid] > target:\r\n",
                "                    return binary_search(left, mid - 1)          \r\n",
                "                else:           \r\n",
                "                    return mid \r\n",
                "            else:\r\n",
                "                return -1 \r\n",
                "        \r\n",
                "        return binary_search(0, len(nums) - 1)"
            ],
            "outputs": [],
            "metadata": {}
        },
        {
            "cell_type": "markdown",
            "source": [
                "### 이진검색모듈"
            ],
            "metadata": {}
        },
        {
            "cell_type": "code",
            "execution_count": 85,
            "source": [
                "import bisect\r\n",
                "\r\n",
                "class Solution:\r\n",
                "    def search(self, nums: List[int], target: int):\r\n",
                "        index = bisect.bisect_left(nums, target)\r\n",
                "        if index < len(nums) and nums[index] == target:\r\n",
                "            return index \r\n",
                "        else: \r\n",
                "            return -1 "
            ],
            "outputs": [],
            "metadata": {}
        },
        {
            "cell_type": "code",
            "execution_count": null,
            "source": [
                "import bisect\r\n",
                "\r\n",
                "class Solution:\r\n",
                "    def search(self, nums: List[int], target: int):\r\n",
                "        try:\r\n",
                "            return nums.index(target)\r\n",
                "        except ValueError\r\n",
                "            return -1 "
            ],
            "outputs": [],
            "metadata": {}
        },
        {
            "cell_type": "markdown",
            "source": [
                "## 회전 정렬된 배열 검색 \r\n",
                "\r\n",
                "회전이 뭔데 "
            ],
            "metadata": {}
        },
        {
            "cell_type": "markdown",
            "source": [],
            "metadata": {}
        },
        {
            "cell_type": "markdown",
            "source": [
                "## 두 배열의 교집합 "
            ],
            "metadata": {}
        },
        {
            "cell_type": "code",
            "execution_count": 3,
            "source": [
                "nums1 = [1,2,2,1]\r\n",
                "nums2 = [2,2]\r\n",
                "set1 = set(nums1)\r\n",
                "set2 = set(nums2)\r\n",
                "intersect_set = set1.intersection(set2)\r\n",
                "print([x for x in set1 if x in intersect_set])"
            ],
            "outputs": [
                {
                    "output_type": "stream",
                    "name": "stdout",
                    "text": [
                        "[2]\n"
                    ]
                }
            ],
            "metadata": {}
        },
        {
            "cell_type": "code",
            "execution_count": 5,
            "source": [
                "intersect_set"
            ],
            "outputs": [
                {
                    "output_type": "execute_result",
                    "data": {
                        "text/plain": [
                            "{2}"
                        ]
                    },
                    "metadata": {},
                    "execution_count": 5
                }
            ],
            "metadata": {}
        },
        {
            "cell_type": "code",
            "execution_count": 18,
            "source": [
                "from collections import defaultdict\r\n",
                "\r\n",
                "class Solution:\r\n",
                "    def intersection(self, nums1, nums2):\r\n",
                "        result = []\r\n",
                "        count_dict = defaultdict(int)\r\n",
                "\r\n",
                "        for n in nums1:\r\n",
                "            count_dict[n] += 1 \r\n",
                "\r\n",
                "        for n in nums2:\r\n",
                "            if count_dict[n] > 0:\r\n",
                "                result.append(n)\r\n",
                "                count_dict[n] -= 1\r\n",
                "\r\n",
                "\r\n"
            ],
            "outputs": [
                {
                    "output_type": "execute_result",
                    "data": {
                        "text/plain": [
                            "<itertools.compress at 0x1d8cb5f4e20>"
                        ]
                    },
                    "metadata": {},
                    "execution_count": 18
                }
            ],
            "metadata": {}
        },
        {
            "cell_type": "markdown",
            "source": [
                "## 두 수의 합 "
            ],
            "metadata": {}
        },
        {
            "cell_type": "code",
            "execution_count": null,
            "source": [
                "class Solution:\r\n",
                "    def twoSum(self, numbers, target):\r\n",
                "        left, right = 0, len(target) - 1\r\n",
                "        while not left == right:\r\n",
                "            if numbers[left] + numbers[right] < target:\r\n",
                "                left += 1 \r\n",
                "            elif numbers[left] + numbers[right] > target:\r\n",
                "                right -= 1 \r\n",
                "            else: \r\n",
                "                return left + 1, right + 1"
            ],
            "outputs": [],
            "metadata": {}
        },
        {
            "cell_type": "code",
            "execution_count": null,
            "source": [
                "class Solution:\r\n",
                "    def twoSum(self, numbers, target):\r\n",
                "        for k, v in enumerate(numbers):\r\n",
                "            expected = target - v \r\n",
                "            i = bisect.bisect_left(numbers, expected, k + 1)\r\n",
                "            if i < len(numbers) and numbers[i] == expected:\r\n",
                "                return k + 1, i + 1 "
            ],
            "outputs": [],
            "metadata": {}
        },
        {
            "cell_type": "code",
            "execution_count": 29,
            "source": [
                "import bisect\r\n",
                "\r\n",
                "class Solution:\r\n",
                "    def searchMatrix(self, matrix: List[List[int]], target: int):\r\n",
                "        \r\n",
                "        matrix_flatten = []\r\n",
                "        \r\n",
                "        for x in matrix:\r\n",
                "            matrix_flatten.extend(x) \r\n",
                "        matrix_flatten.sort()\r\n",
                "        \r\n",
                "        x = bisect.bisect_left(matrix_flatten, target)\r\n",
                "        \r\n",
                "        if x < len(matrix_flatten) and matrix_flatten[x] == target:\r\n",
                "            return True\r\n",
                "        else:\r\n",
                "            return False"
            ],
            "outputs": [],
            "metadata": {}
        },
        {
            "cell_type": "code",
            "execution_count": 30,
            "source": [
                "if __name__ == \"__main__\":\r\n",
                "    # matrix = [[1,4,7,11,15],[2,5,8,12,19],[3,6,9,16,22],[10,13,14,17,24],[18,21,23,26,30]]\r\n",
                "    matrix = [[-2, 1]]\r\n",
                "    target = 2\r\n",
                "    s = Solution()\r\n",
                "    print(s.searchMatrix(matrix, target))"
            ],
            "outputs": [
                {
                    "output_type": "stream",
                    "name": "stdout",
                    "text": [
                        "[-2, 1]\n",
                        "2\n",
                        "False\n"
                    ]
                }
            ],
            "metadata": {}
        },
        {
            "cell_type": "code",
            "execution_count": null,
            "source": [
                "import collections \r\n",
                "\r\n",
                "class Solution:\r\n",
                "    def maxSlidingWindow(self, nums: List[int], k: int):\r\n",
                "        results = []\r\n",
                "        window = collections.deque()\r\n",
                "        current_max = float('-inf')\r\n",
                "        for i, v in enumerate(nums):\r\n",
                "            window.append(v)\r\n",
                "            if i < k - 1:\r\n",
                "                continue \r\n",
                "\r\n",
                "            if current_max == float('-inf'):\r\n",
                "                current_max = max(window)\r\n",
                "            elif v > current_max:\r\n",
                "                current_max = v \r\n",
                "\r\n",
                "            results.append(current_max)\r\n",
                "\r\n",
                "            if current_max == window.popleft():\r\n",
                "                current_max = float('-inf')\r\n",
                "        return results"
            ],
            "outputs": [],
            "metadata": {}
        },
        {
            "cell_type": "markdown",
            "source": [
                "위 풀이는 시간 초과 "
            ],
            "metadata": {}
        },
        {
            "cell_type": "code",
            "execution_count": null,
            "source": [
                "class Solution:\r\n",
                "    def maxSlidingWindow(self, nums: List[int], k: int):\r\n",
                "        queue = collections.deque()\r\n",
                "        for i in range(k-1):\r\n",
                "            while queue and queue[-1] < nums[i]:\r\n",
                "                queue.pop()\r\n",
                "            queue.append(nums[i])\r\n",
                "        \r\n",
                "        res = []\r\n",
                "        for i in range(k-1, len(nums)):\r\n",
                "            while queue and queue[-1] < nums[i]:\r\n",
                "                queue.pop()\r\n",
                "            queue.append(nums[i])\r\n",
                "\r\n",
                "            res.append(queue[0])\r\n",
                "\r\n",
                "            if queue[0] == nums[i-k+1]:\r\n",
                "                queue.popleft()\r\n",
                "        \r\n",
                "        return res \r\n"
            ],
            "outputs": [],
            "metadata": {}
        },
        {
            "cell_type": "code",
            "execution_count": null,
            "source": [
                "class Solution:\r\n",
                "    def maxSlidingWindow(self, nums: List[int], k: int):\r\n",
                "        queue=collections.deque()\r\n",
                "        result =[]\r\n",
                "        \r\n",
                "        for i,num in enumerate(nums):\r\n",
                "            if i >= k and nums[i-k] == queue[0]:\r\n",
                "                queue.popleft()\r\n",
                "            \r\n",
                "            while queue and num > queue[-1]:\r\n",
                "                queue.pop()\r\n",
                "            queue.append(num)\r\n",
                "\r\n",
                "            result.append(queue[0])\r\n",
                "\r\n",
                "        return result[k-1:]\r\n",
                "\r\n",
                "# 내 풀이\r\n",
                "# class Solution:\r\n",
                "#     def maxSlidingWindow(self, nums: List[int], k: int) -> List[int]:\r\n",
                "#         queue = collections.deque()\r\n",
                "#         result = []\r\n",
                "\r\n",
                "#         for i, num in enumerate(nums):\r\n",
                "#             while queue and queue[-1] < num:\r\n",
                "#                 queue.pop()\r\n",
                "#             queue.append(num)\r\n",
                "\r\n",
                "#             result.append(queue[0])\r\n",
                "\r\n",
                "#             if i >= k - 1 and queue[0] == nums[i - k + 1]:\r\n",
                "#                 queue.popleft()\r\n",
                "#         return result[k - 1 :]\r\n",
                "                \r\n",
                "                \r\n",
                "            "
            ],
            "outputs": [],
            "metadata": {}
        },
        {
            "cell_type": "markdown",
            "source": [
                "핵심\r\n",
                "1. monotonic queue를 이용해서 max함수 사용을 하지 않는다. \r\n",
                "2. slicing사용 보다는 enumerate를 활용"
            ],
            "metadata": {}
        },
        {
            "cell_type": "markdown",
            "source": [
                "## Sliding Window Median \r\n",
                "\r\n",
                "어려우니까 패스"
            ],
            "metadata": {}
        },
        {
            "cell_type": "code",
            "execution_count": null,
            "source": [
                "class Solution:\r\n",
                "    def medianSlidingWindow(self, nums: List[int], k: int):\r\n",
                "\r\n",
                "        window = nums[:k]\r\n",
                "        window.sort()\r\n",
                "        ans = []\r\n",
                "        ans.append(window[k//2])\r\n",
                "        if k%2==0:\r\n",
                "            ans[0] = (window[k//2-1] + window[k//2]) / 2\r\n",
                "        \r\n",
                "        for i in range(k,len(nums)):\r\n",
                "            \r\n",
                "            window.pop(bisect.bisect_left(window,nums[i-k]))\r\n",
                "            bisect.insort(window , nums[i])\r\n",
                "            if k%2==0:\r\n",
                "                ans.append( (window[k//2-1]+window[k//2])/2)\r\n",
                "            else:\r\n",
                "                ans.append(window[k//2])\r\n",
                "        return ans"
            ],
            "outputs": [],
            "metadata": {}
        },
        {
            "cell_type": "markdown",
            "source": [
                "## 부분 문자열이 포함된 최소 윈도우 "
            ],
            "metadata": {}
        },
        {
            "cell_type": "code",
            "execution_count": 38,
            "source": [
                "import collections\r\n",
                "\r\n",
                "class Solution:\r\n",
                "    def minWindow(self, s: str, t: str):\r\n",
                "        need = collections.Counter(t)\r\n",
                "        missing = len(t)\r\n",
                "        left = start = end = 0 \r\n",
                "\r\n",
                "        # 오른쪽 포인터 이동 \r\n",
                "        for right, char in enumerate(s, 1):\r\n",
                "            missing -= need[char] > 0\r\n",
                "            need[char] -= 1 \r\n",
                "\r\n",
                "            # 필요 문자가 0이면 왼쪽 포인터 이동 판단 \r\n",
                "            if missing == 0:\r\n",
                "                while left < right and need[s[left]] < 0:\r\n",
                "                    need[s[left]] += 1 \r\n",
                "                    left += 1 \r\n",
                "                 \r\n",
                "                if not end or right - left <= end - start: \r\n",
                "                    start, end = left, right \r\n",
                "                \r\n",
                "                need[s[left]] += 1\r\n",
                "                missing += 1 \r\n",
                "                left += 1\r\n",
                "\r\n",
                "        return s[start:end]"
            ],
            "outputs": [],
            "metadata": {}
        },
        {
            "cell_type": "code",
            "execution_count": 39,
            "source": [
                "if __name__ == \"__main__\":\r\n",
                "    s1 = \"ADOBECODEBANC\"\r\n",
                "    s2 = \"ABC\"\r\n",
                "    s = Solution()\r\n",
                "    print(s.minWindow(s1, s2))"
            ],
            "outputs": [
                {
                    "output_type": "stream",
                    "name": "stdout",
                    "text": [
                        "BANC\n"
                    ]
                }
            ],
            "metadata": {}
        },
        {
            "cell_type": "code",
            "execution_count": null,
            "source": [
                "class Solution:\r\n",
                "    def minWindow(self, s: str, t: str):\r\n",
                "        \r\n",
                "        char_freq = {}\r\n",
                "        for char in t:\r\n",
                "            if char not in char_freq:\r\n",
                "                char_freq[char] = 0\r\n",
                "            char_freq[char] += 1\r\n",
                "            \r\n",
                "        min_len = len(s) + 1\r\n",
                "        win_start, substr_start, matched = 0, 0, 0\r\n",
                "        \r\n",
                "        for win_end in range(len(s)):\r\n",
                "            cur_char = s[win_end]\r\n",
                "            if cur_char in char_freq:\r\n",
                "                char_freq[cur_char] -= 1\r\n",
                "                if char_freq[cur_char] >= 0:\r\n",
                "                    matched += 1\r\n",
                "            \r\n",
                "            while matched == len(t):\r\n",
                "                if win_end - win_start + 1 < min_len:\r\n",
                "                    min_len = win_end - win_start + 1\r\n",
                "                    substr_start  = win_start\r\n",
                "                \r\n",
                "                left_char = s[win_start]\r\n",
                "                win_start += 1\r\n",
                "                if left_char in char_freq:\r\n",
                "                    if char_freq[left_char] == 0:\r\n",
                "                        matched -= 1\r\n",
                "                    char_freq[left_char] += 1\r\n",
                "                    \r\n",
                "        if min_len > len(s):\r\n",
                "            return \"\"\r\n",
                "        \r\n",
                "        return s[substr_start:substr_start+min_len]"
            ],
            "outputs": [],
            "metadata": {}
        },
        {
            "cell_type": "code",
            "execution_count": null,
            "source": [
                "from collections import defaultdict\r\n",
                "\r\n",
                "class Solution:\r\n",
                "    def minWindow(self, s: str, t: str):\r\n",
                "        # increment end until satisfied\r\n",
                "        # increment start until not satisfied\r\n",
                "        # len = end - (start - 1) + 1\r\n",
                "        \r\n",
                "        t_map = defaultdict(int)\r\n",
                "        for char in t:\r\n",
                "            t_map[char] += 1\r\n",
                "        \r\n",
                "        distinct_chars = set(t)\r\n",
                "            \r\n",
                "        min_len = float('inf')\r\n",
                "        min_start = 0\r\n",
                "        min_end = -1\r\n",
                "        start = 0\r\n",
                "        for end in range(len(s)):\r\n",
                "            char = s[end]\r\n",
                "            if char in t_map:\r\n",
                "                t_map[char] -= 1\r\n",
                "                if t_map[char] == 0:\r\n",
                "                    distinct_chars.remove(char)\r\n",
                "                    \r\n",
                "                if not distinct_chars:\r\n",
                "                    while not distinct_chars:\r\n",
                "                        char_start = s[start]\r\n",
                "                        if char_start in t_map:\r\n",
                "                            t_map[char_start] += 1\r\n",
                "                            if t_map[char_start] > 0:\r\n",
                "                                distinct_chars.add(char_start)\r\n",
                "                        start += 1                   \r\n",
                "                    curr_len = end - (start - 1) + 1\r\n",
                "                    if curr_len < min_len:\r\n",
                "                        min_len = curr_len\r\n",
                "                        min_start = start - 1\r\n",
                "                        min_end = end\r\n",
                "                        \r\n",
                "        return s[min_start:min_end+1]"
            ],
            "outputs": [],
            "metadata": {}
        },
        {
            "cell_type": "markdown",
            "source": [
                "## 가장 긴 반복 문자 대체 "
            ],
            "metadata": {}
        },
        {
            "cell_type": "code",
            "execution_count": null,
            "source": [
                "class Solution:\r\n",
                "    def characterReplacement(self, s: str, k: int):\r\n",
                "        \r\n",
                "        l = 0\r\n",
                "        char_to_count = defaultdict(int)\r\n",
                "        char_to_count[s[0]] += 1\r\n",
                "        max_char_count = 1 \r\n",
                "        \r\n",
                "        for i in range(1, len(s)):\r\n",
                "            char_to_count[s[i]] += 1\r\n",
                "            max_char_count = max(max_char_count, char_to_count[s[i]])\r\n",
                "            k_used = i - l + 1 - max_char_count\r\n",
                "            if k_used > k:\r\n",
                "                char_to_count[s[l]] -= 1\r\n",
                "                l += 1\r\n",
                "        return len(s) - l"
            ],
            "outputs": [],
            "metadata": {}
        },
        {
            "cell_type": "markdown",
            "source": [
                "한번 최댓값이 된 상태에서는 오른쪽 포인터가 한 칸 이동하면 왼쪽 포인터도 따라서 이동하게 되면서 "
            ],
            "metadata": {}
        }
    ],
    "metadata": {
        "orig_nbformat": 4,
        "language_info": {
            "name": "python",
            "version": "3.9.0",
            "mimetype": "text/x-python",
            "codemirror_mode": {
                "name": "ipython",
                "version": 3
            },
            "pygments_lexer": "ipython3",
            "nbconvert_exporter": "python",
            "file_extension": ".py"
        },
        "kernelspec": {
            "name": "python3",
            "display_name": "Python 3.9.0 64-bit"
        },
        "interpreter": {
            "hash": "247ab06e135bb35fa78c5eff31b2a9a0050dcb5fb773c2631d2a29ac689eeccb"
        }
    },
    "nbformat": 4,
    "nbformat_minor": 2
}