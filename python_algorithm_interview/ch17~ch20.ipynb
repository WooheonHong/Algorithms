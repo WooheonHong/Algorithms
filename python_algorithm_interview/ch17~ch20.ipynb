{
    "cells": [
        {
            "cell_type": "markdown",
            "source": [
                "# 정렬 \r\n",
                "\r\n",
                "## 리스트 정렬"
            ],
            "metadata": {}
        },
        {
            "cell_type": "markdown",
            "source": [
                "## 퀵 정렬"
            ],
            "metadata": {}
        },
        {
            "cell_type": "code",
            "execution_count": 6,
            "source": [
                "def quickSort(arr, start, end):\r\n",
                "    if start < end:\r\n",
                "        pivot = partition(arr, start, end)\r\n",
                "        quickSort(arr, start, pivot-1)\r\n",
                "        quickSort(arr, pivot, end)\r\n",
                "    return arr "
            ],
            "outputs": [],
            "metadata": {}
        },
        {
            "cell_type": "code",
            "execution_count": 7,
            "source": [
                "def lomuto_partition(arr, start, end):\r\n",
                "    pivot = arr[end]\r\n",
                "    left = start\r\n",
                "    for right in range(left, end):\r\n",
                "        if arr[right] < pivot:\r\n",
                "            arr[left], arr[right] = arr[right], arr[left]\r\n",
                "            left += 1 \r\n",
                "    arr[left], arr[end] = arr[end], arr[left]\r\n",
                "    return left "
            ],
            "outputs": [
                {
                    "output_type": "error",
                    "ename": "SyntaxError",
                    "evalue": "invalid syntax (<ipython-input-7-292ed962ed66>, line 4)",
                    "traceback": [
                        "\u001b[1;36m  File \u001b[1;32m\"<ipython-input-7-292ed962ed66>\"\u001b[1;36m, line \u001b[1;32m4\u001b[0m\n\u001b[1;33m    for right in range(left, end)\u001b[0m\n\u001b[1;37m                                 ^\u001b[0m\n\u001b[1;31mSyntaxError\u001b[0m\u001b[1;31m:\u001b[0m invalid syntax\n"
                    ]
                }
            ],
            "metadata": {}
        },
        {
            "cell_type": "code",
            "execution_count": null,
            "source": [
                "def hoare_partition(arr, start, end):\r\n",
                "    pivot = arr[start]\r\n",
                "    left = start + 1\r\n",
                "    right = end \r\n",
                "    done = False \r\n",
                "    while not done: \r\n",
                "        while left <= right and arr[left] <= pivot: \r\n",
                "            left = left + 1 \r\n",
                "        while arr[right] >= pivot and right >= left: \r\n",
                "            right = right - 1\r\n",
                "        if rihgt < left:\r\n",
                "            done = True \r\n",
                "        else:\r\n",
                "            arr[left], arr[right] = arr[right], arr[left]\r\n",
                "arr[start], arr[right] = arr[right], arr[start]\r\n",
                "return right "
            ],
            "outputs": [],
            "metadata": {}
        },
        {
            "cell_type": "code",
            "execution_count": null,
            "source": [
                "def quicksortBetter(arr):\r\n",
                "    if len(arr) <= 1:\r\n",
                "        return arr\r\n",
                "    pivot = arr[len(arr) // 2]\r\n",
                "    left = [x for x in arr if x < pivot]\r\n",
                "    middle = [x for x in arr if x == pivot]\r\n",
                "    right = [x for x in arr if x > pivot]\r\n",
                "    return quicksortBetter(left) + middle + quicksortBetter(right)"
            ],
            "outputs": [],
            "metadata": {}
        }
    ],
    "metadata": {
        "orig_nbformat": 4,
        "language_info": {
            "name": "python",
            "version": "3.9.0",
            "mimetype": "text/x-python",
            "codemirror_mode": {
                "name": "ipython",
                "version": 3
            },
            "pygments_lexer": "ipython3",
            "nbconvert_exporter": "python",
            "file_extension": ".py"
        },
        "kernelspec": {
            "name": "python3",
            "display_name": "Python 3.9.0 64-bit ('Python39')"
        },
        "interpreter": {
            "hash": "247ab06e135bb35fa78c5eff31b2a9a0050dcb5fb773c2631d2a29ac689eeccb"
        }
    },
    "nbformat": 4,
    "nbformat_minor": 2
}