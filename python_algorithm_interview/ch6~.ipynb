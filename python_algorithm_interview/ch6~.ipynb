{
 "metadata": {
  "language_info": {
   "codemirror_mode": {
    "name": "ipython",
    "version": 3
   },
   "file_extension": ".py",
   "mimetype": "text/x-python",
   "name": "python",
   "nbconvert_exporter": "python",
   "pygments_lexer": "ipython3",
   "version": "3.9.0"
  },
  "orig_nbformat": 2,
  "kernelspec": {
   "name": "python390jvsc74a57bd0247ab06e135bb35fa78c5eff31b2a9a0050dcb5fb773c2631d2a29ac689eeccb",
   "display_name": "Python 3.9.0 64-bit"
  },
  "metadata": {
   "interpreter": {
    "hash": "247ab06e135bb35fa78c5eff31b2a9a0050dcb5fb773c2631d2a29ac689eeccb"
   }
  }
 },
 "nbformat": 4,
 "nbformat_minor": 2,
 "cells": [
  {
   "source": [
    "# Ch6. 문자열 조작 "
   ],
   "cell_type": "markdown",
   "metadata": {}
  },
  {
   "source": [
    "## palindrome\n",
    "\n",
    "Given a string s, determine if it is a palindrome, considering only alphanumeric characters and ignoring cases.\n",
    "\n",
    "### List \n"
   ],
   "cell_type": "markdown",
   "metadata": {}
  },
  {
   "cell_type": "code",
   "execution_count": 2,
   "metadata": {},
   "outputs": [],
   "source": [
    "def is_palindrome(s: str) -> bool:\n",
    "    strs = []\n",
    "    for char in s:\n",
    "        if char.isalnum():\n",
    "            strs.append(char.lower())\n",
    "\n",
    "    while len(strs) > 1:\n",
    "        if strs.pop(0) != strs.pop():\n",
    "            return False \n",
    "\n",
    "    return True "
   ]
  },
  {
   "source": [
    "### Deque"
   ],
   "cell_type": "markdown",
   "metadata": {}
  },
  {
   "cell_type": "code",
   "execution_count": null,
   "metadata": {},
   "outputs": [],
   "source": [
    "import collections\n",
    "\n",
    "def is_palindrome(s: str) -> bool:\n",
    "    strs : Deque = collections.deque()\n",
    "    for char in s:\n",
    "        if char.isalnum():\n",
    "            strs.append(char.lower())\n",
    "\n",
    "    while len(strs) > 1:\n",
    "        if strs.popleft() != strs.pop():\n",
    "            return False \n",
    "\n",
    "    return True "
   ]
  },
  {
   "source": [
    "### slicing "
   ],
   "cell_type": "markdown",
   "metadata": {}
  },
  {
   "cell_type": "code",
   "execution_count": 3,
   "metadata": {},
   "outputs": [],
   "source": [
    "import collections\n",
    "\n",
    "def is_palindrome(s: str) -> bool:\n",
    "    s = s.lower()\n",
    "    s = re.sub('[^a-z0-9]', '', s)\n",
    "\n",
    "    return s == s[::-1]"
   ]
  },
  {
   "source": [
    "## Reverse String"
   ],
   "cell_type": "markdown",
   "metadata": {}
  },
  {
   "cell_type": "code",
   "execution_count": 4,
   "metadata": {},
   "outputs": [
    {
     "output_type": "execute_result",
     "data": {
      "text/plain": [
       "['c', 'b', 'a']"
      ]
     },
     "metadata": {},
     "execution_count": 4
    }
   ],
   "source": [
    "s = ['a', 'b', 'c']\n",
    "s[::-1]\n"
   ]
  },
  {
   "source": [
    "코드 자체는 문제가 없지만 파이썬은 새로운 객체를 만들어 버리기 때문에 제약 조건 공간복잡도 O(1)에 위반된다. \n",
    "\n",
    "따라서 s[:] = s[::-1] 로 코딩해야한다. \n",
    "\n",
    "거의 차이는 없지만 s.reverse()가 좀 더 빠르다. \n"
   ],
   "cell_type": "markdown",
   "metadata": {}
  },
  {
   "cell_type": "code",
   "execution_count": 5,
   "metadata": {},
   "outputs": [],
   "source": [
    "s.reverse()"
   ]
  },
  {
   "source": [
    "## reorder data in log files"
   ],
   "cell_type": "markdown",
   "metadata": {}
  },
  {
   "source": [
    "You are given an array of logs. Each log is a space-delimited string of words, where the first word is the identifier.\n",
    "\n",
    "There are two types of logs:\n",
    "\n",
    "- Letter-logs: All words (except the identifier) consist of lowercase English letters.\n",
    "- Digit-logs: All words (except the identifier) consist of digits.\n",
    "Reorder these logs so that:\n",
    "\n",
    "1. The letter-logs come before all digit-logs.\n",
    "2. The letter-logs are sorted lexicographically by their contents. If their contents are the same, then sort them lexicographically by their identifiers.\n",
    "3. The digit-logs maintain their relative ordering.\n",
    "Return the final order of the logs.\n",
    "\n"
   ],
   "cell_type": "markdown",
   "metadata": {}
  },
  {
   "cell_type": "code",
   "execution_count": 18,
   "metadata": {},
   "outputs": [],
   "source": [
    "from typing import List\n",
    "\n",
    "def reorder_log_files(logs: List[str]) -> List[str]:\n",
    "    letters, digits = [], []\n",
    "    for log in logs:\n",
    "        print(log.split()[1])\n",
    "        if log.split()[1].isdigit():\n",
    "            digits.append(log)\n",
    "        else:\n",
    "            letters.append(log)\n",
    "    letters.sort(key=lambda x: (x.split()[1:], x.split()[0]))\n",
    "    return letters + digits "
   ]
  },
  {
   "cell_type": "code",
   "execution_count": 19,
   "metadata": {},
   "outputs": [
    {
     "output_type": "stream",
     "name": "stdout",
     "text": [
      "8\nart\n3\nown\nart\n"
     ]
    },
    {
     "output_type": "execute_result",
     "data": {
      "text/plain": [
       "['let1 art can',\n",
       " 'let3 art zero',\n",
       " 'let2 own kit dig',\n",
       " 'dig1 8 1 5 1',\n",
       " 'dig2 3 6']"
      ]
     },
     "metadata": {},
     "execution_count": 19
    }
   ],
   "source": [
    "logs = [\"dig1 8 1 5 1\",\"let1 art can\",\"dig2 3 6\",\"let2 own kit dig\",\"let3 art zero\"]\n",
    "reorder_log_files(logs)"
   ]
  },
  {
   "source": [
    "## most common word\n",
    "\n",
    "Given a string paragraph and a string array of the banned words banned, return the most frequent word that is not banned. It is guaranteed there is at least one word that is not banned, and that the answer is unique.\n",
    "\n",
    "The words in paragraph are case-insensitive and the answer should be returned in lowercase."
   ],
   "cell_type": "markdown",
   "metadata": {}
  },
  {
   "cell_type": "code",
   "execution_count": 75,
   "metadata": {},
   "outputs": [],
   "source": [
    "import collections\n",
    "import re \n",
    "\n",
    "def mostCommonWord(paragraph: str, banned: List[str]) -> str:\n",
    "    words = [word for word in re.sub(r'[^\\w]', ' ', paragraph).lower().split() \n",
    "        if word not in banned]\n",
    "    print(words)\n",
    "    counts = collections.Counter(words)\n",
    "    return counts.most_common(1)[0][0]"
   ]
  },
  {
   "cell_type": "code",
   "execution_count": 71,
   "metadata": {},
   "outputs": [],
   "source": [
    "def mostCommonWord(paragraph: str, banned: List[str]) -> str:\n",
    "    words = [word for word in re.sub(r'[^\\w]', ' ', paragraph)\n",
    "        .lower().split()\n",
    "                if word not in banned]\n",
    "\n",
    "    counts = collections.Counter(words)\n",
    "    # 가장 흔하게 등장하는 단어의 첫 번째 인덱스 리턴\n",
    "    return counts.most_common(1)[0][0]"
   ]
  },
  {
   "cell_type": "code",
   "execution_count": 76,
   "metadata": {},
   "outputs": [
    {
     "output_type": "stream",
     "name": "stdout",
     "text": [
      "['bob', 'a', 'ball', 'the', 'ball', 'flew', 'far', 'after', 'it', 'was']\n"
     ]
    },
    {
     "output_type": "execute_result",
     "data": {
      "text/plain": [
       "'ball'"
      ]
     },
     "metadata": {},
     "execution_count": 76
    }
   ],
   "source": [
    "paragraph = \"Bob hit a ball, the hit BALL flew far after it was hit.\"\n",
    "banned = [\"hit\"]\n",
    "mostCommonWord(paragraph, banned)\n",
    "# re.findall(r\"\\w\", \"\", paragraph)"
   ]
  },
  {
   "source": [
    "##  Group Anagrams\n",
    "\n",
    "Given an array of strings strs, group the anagrams together. You can return the answer in any order.\n",
    "\n",
    "An Anagram is a word or phrase formed by rearranging the letters of a different word or phrase, typically using all the original letters exactly once."
   ],
   "cell_type": "markdown",
   "metadata": {}
  },
  {
   "cell_type": "code",
   "execution_count": null,
   "metadata": {},
   "outputs": [],
   "source": [
    "def groupAnagrams(strs: List[str]) -> List[List[str]]:\n",
    "    anagrams = collections.defaultdict(list)\n",
    "\n",
    "    for word in strs:\n",
    "        # 정렬하여 딕셔너리에 추가 \n",
    "        anagrams[''.join(sorted(word))].append(word)\n",
    "    return anagrams.values()"
   ]
  },
  {
   "source": [
    "## 여러 가지 정렬 방법"
   ],
   "cell_type": "markdown",
   "metadata": {}
  },
  {
   "cell_type": "code",
   "execution_count": 78,
   "metadata": {},
   "outputs": [
    {
     "output_type": "execute_result",
     "data": {
      "text/plain": [
       "[1, 2, 5, 7, 9]"
      ]
     },
     "metadata": {},
     "execution_count": 78
    }
   ],
   "source": [
    "a = [2, 5, 1, 9, 7]\n",
    "sorted(a)"
   ]
  },
  {
   "cell_type": "code",
   "execution_count": 79,
   "metadata": {},
   "outputs": [
    {
     "output_type": "execute_result",
     "data": {
      "text/plain": [
       "['a', 'b', 'd', 'f', 'z']"
      ]
     },
     "metadata": {},
     "execution_count": 79
    }
   ],
   "source": [
    "b = 'zbdaf'\n",
    "sorted(b)"
   ]
  },
  {
   "cell_type": "code",
   "execution_count": 80,
   "metadata": {},
   "outputs": [
    {
     "output_type": "execute_result",
     "data": {
      "text/plain": [
       "'abdfz'"
      ]
     },
     "metadata": {},
     "execution_count": 80
    }
   ],
   "source": [
    "\"\".join(sorted(b))"
   ]
  },
  {
   "cell_type": "code",
   "execution_count": 81,
   "metadata": {},
   "outputs": [
    {
     "output_type": "execute_result",
     "data": {
      "text/plain": [
       "['d', 'bb', 'ccc', 'aaaa']"
      ]
     },
     "metadata": {},
     "execution_count": 81
    }
   ],
   "source": [
    "c = ['ccc', 'aaaa', 'd', 'bb']\n",
    "sorted(c, key=len)"
   ]
  },
  {
   "cell_type": "code",
   "execution_count": 83,
   "metadata": {},
   "outputs": [
    {
     "output_type": "execute_result",
     "data": {
      "text/plain": [
       "['abc', 'cfc', 'cde']"
      ]
     },
     "metadata": {},
     "execution_count": 83
    }
   ],
   "source": [
    "a = ['cde', 'cfc', 'abc']\n",
    "sorted(a, key=lambda x: (x[0], x[-1]))"
   ]
  },
  {
   "source": [
    "## 가장 긴 팬린드롬 부분 문자열"
   ],
   "cell_type": "markdown",
   "metadata": {}
  },
  {
   "cell_type": "code",
   "execution_count": 85,
   "metadata": {},
   "outputs": [],
   "source": [
    "def longest_palindrome(s: str) -> str:\n",
    "    # 팰린드롬 판별 및 투 포인터 확장 \n",
    "    def expand(left: int, right: int) -> str:\n",
    "        while left >= 0 and right <= len(s) and s[left] == s[right - 1]:\n",
    "            left -= 1\n",
    "            right += 1\n",
    "        return s[left + 1:right - 1] # 헷갈리니 주의 \n",
    "\n",
    "    # 해상 사항이 없을 때 빠르게 리턴 \n",
    "    if len(s) < 2 or s == s[::-1]:\n",
    "        return s \n",
    "    result = ''\n",
    "    # 슬라이딩 윈도우 우측으로 이동 \n",
    "    for i in range(len(s) - 1):\n",
    "        result = max(result,\n",
    "                        expand(i, i + 1),\n",
    "                        expand(i, i + 2),\n",
    "                        key=len)\n",
    "    return result \n",
    "    "
   ]
  },
  {
   "source": [
    "#  배열 "
   ],
   "cell_type": "markdown",
   "metadata": {}
  },
  {
   "source": [
    "## 두 수의 합 "
   ],
   "cell_type": "markdown",
   "metadata": {}
  },
  {
   "source": [
    "### brute force "
   ],
   "cell_type": "markdown",
   "metadata": {}
  },
  {
   "source": [
    "### in을 이용한 탐색 "
   ],
   "cell_type": "markdown",
   "metadata": {}
  },
  {
   "cell_type": "code",
   "execution_count": 94,
   "metadata": {},
   "outputs": [],
   "source": [
    "def twoSum(nums: List[int], target: int) -> List[int]:\n",
    "    for i, n in enumerate(nums):\n",
    "        complement = target - n \n",
    "\n",
    "        if complement in nums[i + 1: ]:\n",
    "            return nums.index(n), nums[i + 1: ].index(complement) + (i + 1)\n",
    "            "
   ]
  },
  {
   "source": [
    "`in`은 O(n)이지만 상수항이 훨씬 작아서 빠르다. "
   ],
   "cell_type": "markdown",
   "metadata": {}
  },
  {
   "cell_type": "code",
   "execution_count": 95,
   "metadata": {},
   "outputs": [
    {
     "output_type": "execute_result",
     "data": {
      "text/plain": [
       "(0, 2)"
      ]
     },
     "metadata": {},
     "execution_count": 95
    }
   ],
   "source": [
    "nums = [3, 2, 3]\n",
    "target = 6\n",
    "twoSum(nums, target)"
   ]
  },
  {
   "source": [
    "### 첫 번째 수를 뺀 결과 키 조회 "
   ],
   "cell_type": "markdown",
   "metadata": {}
  },
  {
   "cell_type": "code",
   "execution_count": 96,
   "metadata": {},
   "outputs": [],
   "source": [
    "def twoSum(nums: List[int], target: int) -> List[int]:\n",
    "    for i, num in enumerate(nums):\n",
    "        # 키와 값을 바꿔서 딕셔너리로 저장 \n",
    "        nums_map[num] = i\n",
    "\n",
    "    # 타겟에서 첫 번째 수를 뺀 결과를 키로 조회 \n",
    "    for i, num in enumerate(nums):\n",
    "        if target - num in nums_map and i != nums_map[target - num]:\n",
    "            return nums.index(num), nums_map[target - num]\n",
    "            "
   ]
  },
  {
   "source": [
    "### 조회 구조 개선 "
   ],
   "cell_type": "markdown",
   "metadata": {}
  },
  {
   "cell_type": "code",
   "execution_count": null,
   "metadata": {},
   "outputs": [],
   "source": [
    "def twoSum(nums: List[int], target: int) -> List[int]:\n",
    "    nums_map = {}\n",
    "    for i, num in enumerate(nums):\n",
    "        if target - num in nums_map and i != nums_map[target - num]:\n",
    "            return [nums_map[target - num], i]\n",
    "        nums_map[num] = i"
   ]
  },
  {
   "source": [
    "## 빗물 트래핑 \n",
    "\n",
    "어렵다 나중에.."
   ],
   "cell_type": "markdown",
   "metadata": {}
  },
  {
   "source": [
    "### 투 포인터를 최대로 이동 "
   ],
   "cell_type": "markdown",
   "metadata": {}
  },
  {
   "cell_type": "code",
   "execution_count": null,
   "metadata": {},
   "outputs": [],
   "source": []
  },
  {
   "source": [
    "### 스택 쌓기 "
   ],
   "cell_type": "markdown",
   "metadata": {}
  },
  {
   "cell_type": "code",
   "execution_count": null,
   "metadata": {},
   "outputs": [],
   "source": []
  },
  {
   "source": [
    "## 세 수의 합 "
   ],
   "cell_type": "markdown",
   "metadata": {}
  },
  {
   "cell_type": "code",
   "execution_count": 99,
   "metadata": {},
   "outputs": [],
   "source": [
    "def threeSum(nums: List[int]) -> List[List[int]]:\n",
    "    results = []\n",
    "    nums.sort()\n",
    "\n",
    "    for i in range(len(nums) - 2):\n",
    "        # 중복된 값 건너뛰기 \n",
    "        if i > 0 and nums[i] == nums[i - 1]:\n",
    "            continue \n",
    "        left, right = i + 1, len(nums) - 1\n",
    "        while left < right:\n",
    "            sum = nums[i] + nums[left] + nums[right]\n",
    "            if sum < 0:\n",
    "                left += 1 \n",
    "                print(f'left : {left}')\n",
    "            elif sum > 0:\n",
    "                right -= 1 \n",
    "                print(f'right : {right}')\n",
    "            else:\n",
    "                while left < right and nums[left] == nums[left + 1]:\n",
    "                    left += 1 \n",
    "                while left > right and nums[right] == nums[right - 1]:\n",
    "                    right -= 1 \n",
    "                results.append([nums[i], nums[left], nums[right]])\n",
    "                left += 1 \n",
    "                right -= 1 \n",
    "\n",
    "    return results "
   ]
  },
  {
   "cell_type": "code",
   "execution_count": 100,
   "metadata": {},
   "outputs": [
    {
     "output_type": "stream",
     "name": "stdout",
     "text": [
      "left : 2\nleft : 3\nleft : 4\nleft : 5\nright : 4\n"
     ]
    },
    {
     "output_type": "execute_result",
     "data": {
      "text/plain": [
       "[[-1, -1, 2], [-1, 0, 1]]"
      ]
     },
     "metadata": {},
     "execution_count": 100
    }
   ],
   "source": [
    "nums = [-1,0,1,2,-1,-4]\n",
    "threeSum(nums)"
   ]
  },
  {
   "source": [
    "## 배열 파티션"
   ],
   "cell_type": "markdown",
   "metadata": {}
  },
  {
   "cell_type": "code",
   "execution_count": null,
   "metadata": {},
   "outputs": [],
   "source": [
    "def arrayPairSum(nums: List[int]) -> int:\n",
    "    sum = 0 \n",
    "    pair = []\n",
    "    nums.sort()\n",
    "\n",
    "    for num in nums:\n",
    "        pair.append(num)\n",
    "        if len(pair) == 2:\n",
    "            sum += min(pair)\n",
    "            pair = []\n",
    "    \n",
    "    return sum "
   ]
  },
  {
   "cell_type": "code",
   "execution_count": 108,
   "metadata": {},
   "outputs": [
    {
     "output_type": "execute_result",
     "data": {
      "text/plain": [
       "[0, 2]"
      ]
     },
     "metadata": {},
     "execution_count": 108
    }
   ],
   "source": [
    "nums = [4, 1, 3, 2]\n",
    "[x for x in range(len(nums)) if x % 2 == 0]"
   ]
  },
  {
   "cell_type": "code",
   "execution_count": 109,
   "metadata": {},
   "outputs": [],
   "source": [
    "def arrayPairSum(nums: List[int]) -> int:\n",
    "    return sum(sorted(nums)[::2]) "
   ]
  },
  {
   "source": [
    "## 자신을 제외한 배열의 곱"
   ],
   "cell_type": "markdown",
   "metadata": {}
  },
  {
   "cell_type": "code",
   "execution_count": 114,
   "metadata": {},
   "outputs": [],
   "source": [
    "def productExceptSelf(nums: List[int]) -> List[int]:\n",
    "    out = []\n",
    "    p = 1\n",
    "    for i in range(len(nums)):\n",
    "        out.append(p)\n",
    "        p = out[i] * nums[i]\n",
    "        \n",
    "    p = 1\n",
    "    for i in range(len(nums) - 1, -1, -1):\n",
    "        out[i] = p * out[i]\n",
    "        p = nums[i] * p\n",
    "            \n",
    "    return out\n"
   ]
  },
  {
   "source": [
    "## 주식을 사고팔기 가장 좋은 시점 "
   ],
   "cell_type": "markdown",
   "metadata": {}
  },
  {
   "cell_type": "code",
   "execution_count": null,
   "metadata": {},
   "outputs": [],
   "source": [
    "def maxProfit(prices: List[int]) -> int:\n",
    "        profit = 0\n",
    "        min_price = sys.maxsize \n",
    "        \n",
    "        # 최솟값과 최댓값을 계속 갱신 \n",
    "        for price in prices:\n",
    "            min_price = min(min_price, price)\n",
    "            profit = max(profit, price - min_price)\n",
    "            \n",
    "        return profit "
   ]
  },
  {
   "source": [
    "# 연결 리스트 "
   ],
   "cell_type": "markdown",
   "metadata": {}
  },
  {
   "source": [
    "## 팰린드롬 연결 리스트"
   ],
   "cell_type": "markdown",
   "metadata": {}
  },
  {
   "cell_type": "code",
   "execution_count": null,
   "metadata": {},
   "outputs": [],
   "source": [
    "def isPalindrome(self, head: ListNode) -> bool:\n",
    "        \n",
    "    q: Deque = collections.deque()\n",
    "\n",
    "    if not head:\n",
    "        return True \n",
    "\n",
    "    node = head \n",
    "    while head is not None:\n",
    "        q.append(head.val)\n",
    "        head = head.next\n",
    "        \n",
    "    while len(q) > 1:\n",
    "        if q.popleft() != q.pop():\n",
    "            return False \n",
    "\n",
    "    return True"
   ]
  },
  {
   "source": [
    "아니면 아주 약간 느리지만 리스트로 변환해서 `list_ == list_[::-1]` 가능 "
   ],
   "cell_type": "markdown",
   "metadata": {}
  },
  {
   "cell_type": "code",
   "execution_count": null,
   "metadata": {},
   "outputs": [],
   "source": [
    "def isPalindrome(head: ListNode) -> bool:\n",
    "\n",
    "    rev = None \n",
    "    fast = slow = head \n",
    "\n",
    "    while fast and fast.next: # and 문은 앞 조건이 false면 바로 탈출. \n",
    "        fast = fast.next.next\n",
    "        rev, rev.next, slow = slow, rev, slow.next # 삼중 할당을 하지 않으면 파이썬의 객체 참조 규칙 때문에 오류가 뜬다. \n",
    "    if fast:\n",
    "        slow = slow.next \n",
    "\n",
    "    while rev and rev.val == slow.val:\n",
    "        slow, rev = slow.next, rev.next \n",
    "\n",
    "    return not rev "
   ]
  },
  {
   "source": [
    "`rev, rev.next, slow = slow, rev, slow.next` : 삼중 할당을 하지 않으면 파이썬의 객체 참조 규칙 때문에 오류가 뜬다. "
   ],
   "cell_type": "markdown",
   "metadata": {}
  },
  {
   "source": [
    "## 두 정렬 리스트의 병합"
   ],
   "cell_type": "markdown",
   "metadata": {}
  },
  {
   "cell_type": "code",
   "execution_count": null,
   "metadata": {},
   "outputs": [],
   "source": [
    "def mergeTwoLists(l1: ListNode, l2: ListNode) -> ListNode:\n",
    "    if (not l1) or (l2 and l1.val > l2.val): # l1 존재 안하면 pass, l2는 존재하면 비교하고 존재 안하면 pass \n",
    "        l1, l2 = l2, l1 \n",
    "    if l1:\n",
    "        l1.next = mergeTwoLists(l1.next, l2)\n",
    "    return l1"
   ]
  },
  {
   "source": [
    "## 역순 연결 리스트 "
   ],
   "cell_type": "markdown",
   "metadata": {}
  },
  {
   "source": [
    "### 재귀 "
   ],
   "cell_type": "markdown",
   "metadata": {}
  },
  {
   "cell_type": "code",
   "execution_count": null,
   "metadata": {},
   "outputs": [],
   "source": [
    "def reverseList(head: ListNode) -> ListNode:\n",
    "    "
   ]
  },
  {
   "source": [
    "### 반복 "
   ],
   "cell_type": "markdown",
   "metadata": {}
  },
  {
   "cell_type": "code",
   "execution_count": null,
   "metadata": {},
   "outputs": [],
   "source": [
    "def reverseList(head: ListNode) -> ListNode:\n",
    "    node, prev = head, None \n",
    "\n",
    "    while node: \n",
    "        next, node.next = node.next, prev \n",
    "        prev, node = node, next \n",
    "\n",
    "    return prev "
   ]
  },
  {
   "cell_type": "code",
   "execution_count": null,
   "metadata": {},
   "outputs": [],
   "source": [
    "def swapPairs(self, head: ListNode) -> ListNode:\n",
    "    \n",
    "    while head and head.next:\n",
    "        head.val, head.next.val = head.next.val, head.val \n",
    "        head = head.next.next \n",
    "        \n",
    "    return head"
   ]
  },
  {
   "source": [
    "# 스택, 큐"
   ],
   "cell_type": "markdown",
   "metadata": {}
  },
  {
   "cell_type": "code",
   "execution_count": null,
   "metadata": {},
   "outputs": [],
   "source": [
    "class Node:\n",
    "    def __init__(self, item, next):\n",
    "        self.item = item \n",
    "        self.next = next \n",
    "\n",
    "class Stack:\n",
    "    def __init__(self):\n",
    "        self.last = None \n",
    "    \n",
    "    def push(self, item):\n",
    "        self.last = Node(item, self.last)\n",
    "\n",
    "    def pop(self):\n",
    "        item = self.last.item \n",
    "        self.last = self.last.next \n"
   ]
  },
  {
   "source": [
    "## 유용한 괄호"
   ],
   "cell_type": "markdown",
   "metadata": {}
  },
  {
   "cell_type": "code",
   "execution_count": 11,
   "metadata": {},
   "outputs": [
    {
     "output_type": "error",
     "ename": "SyntaxError",
     "evalue": "invalid syntax (<ipython-input-11-d42698f522b2>, line 13)",
     "traceback": [
      "\u001b[1;36m  File \u001b[1;32m\"<ipython-input-11-d42698f522b2>\"\u001b[1;36m, line \u001b[1;32m13\u001b[0m\n\u001b[1;33m    elif not stack or table[char] != stack.pop():\u001b[0m\n\u001b[1;37m    ^\u001b[0m\n\u001b[1;31mSyntaxError\u001b[0m\u001b[1;31m:\u001b[0m invalid syntax\n"
     ]
    }
   ],
   "source": [
    "def isValid(s: str) -> bool:\n",
    "    stack = []\n",
    "    table = {\n",
    "        ')': '(',\n",
    "        '}': '{',\n",
    "        ']': '[',\n",
    "    }\n",
    "\n",
    "    for char in s:\n",
    "        if char not in table: \n",
    "            stack.append(char)\n",
    "        elif not stack or table[char] != stack.pop():\n",
    "            return False \n",
    "    return len(stack) == 0\n",
    "        "
   ]
  },
  {
   "source": [
    "같은 타입에 의해서 닫힌다 -> 테이블 생각 \n",
    "제대로된 순서로 닫혀야 한다 -> 스택 생각 "
   ],
   "cell_type": "markdown",
   "metadata": {}
  },
  {
   "source": [
    "## 중복 문자 제거 "
   ],
   "cell_type": "markdown",
   "metadata": {}
  },
  {
   "source": [
    "예제에 대한 제대로 된 이해가 필요하다 "
   ],
   "cell_type": "markdown",
   "metadata": {}
  },
  {
   "cell_type": "code",
   "execution_count": null,
   "metadata": {},
   "outputs": [],
   "source": [
    "def removeDuplicateLetters(self, s: str) -> str:\n",
    "    counter, stack = collections.Counter(s), []\n",
    "\n",
    "    for char in s:\n",
    "        counter[char] -= 1 \n",
    "        if char in stack: # 이미 처리된 문자 스킵 \n",
    "            continue \n",
    "        while stack and char < stack[-1] and counter[stack[-1]]:\n",
    "            stack.pop()\n",
    "        stack.append(char)\n",
    "\n",
    "    return ''.join(stack)"
   ]
  },
  {
   "cell_type": "code",
   "execution_count": 14,
   "metadata": {},
   "outputs": [
    {
     "output_type": "execute_result",
     "data": {
      "text/plain": [
       "True"
      ]
     },
     "metadata": {},
     "execution_count": 14
    }
   ],
   "source": [
    "'a' < 'b'"
   ]
  }
 ]
}