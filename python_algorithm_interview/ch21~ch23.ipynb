{
    "cells": [
        {
            "cell_type": "markdown",
            "source": [
                "# 그리디 알고리즘 \r\n",
                "\r\n",
                "## Knapsack Problem"
            ],
            "metadata": {}
        },
        {
            "cell_type": "code",
            "execution_count": null,
            "source": [
                "def fractional_knapsack(cargo):\r\n",
                "    capacity = 15\r\n",
                "    pack = []\r\n",
                "    for c in cargo:\r\n",
                "        pack.append((c[0] / c[1], c[0], c[1]))\r\n",
                "    pack.sort(reverse=True)\r\n",
                "\r\n",
                "    # 단가 순 그리디 계산 \r\n",
                "    total_value: flaot = 0\r\n",
                "    for p in pack:\r\n",
                "        if capacity - p[2] >= 0:\r\n",
                "            capacity -= p[2]\r\n",
                "            total_value += p[1]\r\n",
                "\r\n",
                "        else:\r\n",
                "            fraction = capacity / p[2] # 마지막 남은 짐을 쪼개기 위해\r\n",
                "            total_value += p[1] * fraction\r\n",
                "            break \r\n",
                "    \r\n",
                "    return total_value"
            ],
            "outputs": [],
            "metadata": {}
        },
        {
            "cell_type": "code",
            "execution_count": 2,
            "source": [
                "cargo = [\r\n",
                "    (4, 12),\r\n",
                "    (2, 1),\r\n",
                "    (10, 4),\r\n",
                "    (1, 1),\r\n",
                "    (2, 2)\r\n",
                "]\r\n",
                "pack = []\r\n",
                "for c in cargo:\r\n",
                "    pack.append((c[0] / c[1], c[0], c[1]))\r\n",
                "\r\n",
                "pack.sort(key= lambda x : x[2])\r\n",
                "pack\r\n"
            ],
            "outputs": [
                {
                    "output_type": "execute_result",
                    "data": {
                        "text/plain": [
                            "[(2.0, 2, 1),\n",
                            " (1.0, 1, 1),\n",
                            " (1.0, 2, 2),\n",
                            " (2.5, 10, 4),\n",
                            " (0.3333333333333333, 4, 12)]"
                        ]
                    },
                    "metadata": {},
                    "execution_count": 2
                }
            ],
            "metadata": {}
        },
        {
            "cell_type": "markdown",
            "source": [
                "## 주식을 사고팔기 가장 좋은 시점 "
            ],
            "metadata": {}
        },
        {
            "cell_type": "code",
            "execution_count": null,
            "source": [
                "class Solution:\r\n",
                "    def maxProfit(self, prices: List[int]) -> int:\r\n",
                "        return sum([prices[i]-prices[i-1] for i in range(1,len(prices)) if prices[i] > prices[i-1]])"
            ],
            "outputs": [],
            "metadata": {}
        },
        {
            "cell_type": "markdown",
            "source": [
                "## 키에 따른 대기열 재구성 "
            ],
            "metadata": {}
        },
        {
            "cell_type": "code",
            "execution_count": 7,
            "source": [
                "sorted([[7, 0], [4, 4], [7, 1], [5, 0], [6, 1], [5, 2]], reverse=True, key = lambda x: (x[0], -x[1]))"
            ],
            "outputs": [
                {
                    "output_type": "execute_result",
                    "data": {
                        "text/plain": [
                            "[[7, 0], [7, 1], [6, 1], [5, 0], [5, 2], [4, 4]]"
                        ]
                    },
                    "metadata": {},
                    "execution_count": 7
                }
            ],
            "metadata": {}
        },
        {
            "cell_type": "code",
            "execution_count": null,
            "source": [
                "import heapq\r\n",
                "\r\n",
                "class Solution:\r\n",
                "    def reconstructQueue(self, people: List[List[int]]):\r\n",
                "        people.sort(reverse=True, key = lambda x: (x[0], -x[1]))\r\n",
                "        \r\n",
                "        result = []\r\n",
                "        for person in people:\r\n",
                "            result.insert(person[1], [person[0], person[1]])\r\n",
                "        return result\r\n",
                "        \r\n",
                "        # 책 풀이\r\n",
                "        # heap = []\r\n",
                "        # for person in people:\r\n",
                "        #     heapq.heappush(heap, (-person[0], person[1]))\r\n",
                "\r\n",
                "        # result = []\r\n",
                "        # while heap:\r\n",
                "        #     person = heapq.heappop(heap)\r\n",
                "        #     result.insert(person[1], [-person[0], person[1]])\r\n",
                "        # return result\r\n",
                "        "
            ],
            "outputs": [],
            "metadata": {}
        },
        {
            "cell_type": "markdown",
            "source": [
                "## 태스크 스케쥴러"
            ],
            "metadata": {}
        },
        {
            "cell_type": "code",
            "execution_count": null,
            "source": [
                "class Solution:\r\n",
                "    def leastInterval(self, tasks: List[str], n: int):\r\n",
                "        counter = collections.Counter(tasks)\r\n",
                "        result = 0\r\n",
                "\r\n",
                "        while True:\r\n",
                "            sub_count = 0\r\n",
                "\r\n",
                "            for task, _ in counter.most_common(n + 1):\r\n",
                "                sub_count += 1\r\n",
                "                result += 1\r\n",
                "\r\n",
                "                counter.subtract(task)\r\n",
                "                counter += collections.Counter()\r\n",
                "\r\n",
                "            if not counter:\r\n",
                "                break\r\n",
                "\r\n",
                "            result += n - sub_count + 1\r\n",
                "\r\n",
                "        return result"
            ],
            "outputs": [],
            "metadata": {}
        },
        {
            "cell_type": "code",
            "execution_count": null,
            "source": [
                "import collections\r\n",
                "\r\n",
                "class Solution:\r\n",
                "    def leastInterval(self, tasks: List[str], n: int):\r\n",
                "        c = collections.Counter(tasks)\r\n",
                "        freq = sorted(list(c.values()))\r\n",
                "        max_f = freq.pop()\r\n",
                "        idle = (max_f - 1) * n\r\n",
                "        while freq and idle >= 0:\r\n",
                "            idle -= min(max_f - 1, freq.pop())\r\n",
                "        return len(tasks) + max(idle,0)"
            ],
            "outputs": [],
            "metadata": {}
        },
        {
            "cell_type": "code",
            "execution_count": null,
            "source": [
                "class Solution:\r\n",
                "    def leastInterval(self, tasks, n):\r\n",
                "        if tasks == []:\r\n",
                "            return 0\r\n",
                "        freqs = list(Counter(tasks).values())\r\n",
                "        f_max = max(freqs)\r\n",
                "        num_f_max = freqs.count(f_max)\r\n",
                "        needed_to_fill = (n + 1 - num_f_max) * (f_max - 1)\r\n",
                "        remaining = len(tasks) - f_max * num_f_max\r\n",
                "        return f_max * num_f_max + max(needed_to_fill, remaining)"
            ],
            "outputs": [],
            "metadata": {}
        }
    ],
    "metadata": {
        "orig_nbformat": 4,
        "language_info": {
            "name": "python",
            "version": "3.9.0",
            "mimetype": "text/x-python",
            "codemirror_mode": {
                "name": "ipython",
                "version": 3
            },
            "pygments_lexer": "ipython3",
            "nbconvert_exporter": "python",
            "file_extension": ".py"
        },
        "kernelspec": {
            "name": "python3",
            "display_name": "Python 3.9.0 64-bit"
        },
        "interpreter": {
            "hash": "247ab06e135bb35fa78c5eff31b2a9a0050dcb5fb773c2631d2a29ac689eeccb"
        }
    },
    "nbformat": 4,
    "nbformat_minor": 2
}