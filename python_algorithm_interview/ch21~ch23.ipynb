{
    "cells": [
        {
            "cell_type": "markdown",
            "source": [
                "# 그리디 알고리즘 \r\n",
                "\r\n",
                "## Knapsack Problem"
            ],
            "metadata": {}
        },
        {
            "cell_type": "code",
            "execution_count": null,
            "source": [
                "def fractional_knapsack(cargo):\r\n",
                "    capacity = 15\r\n",
                "    pack = []\r\n",
                "    for c in cargo:\r\n",
                "        pack.append((c[0] / c[1], c[0], c[1]))\r\n",
                "    pack.sort(reverse=True)\r\n",
                "\r\n",
                "    # 단가 순 그리디 계산 \r\n",
                "    total_value: flaot = 0\r\n",
                "    for p in pack:\r\n",
                "        if capacity - p[2] >= 0:\r\n",
                "            capacity -= p[2]\r\n",
                "            total_value += p[1]\r\n",
                "\r\n",
                "        else:\r\n",
                "            fraction = capacity / p[2] # 마지막 남은 짐을 쪼개기 위해\r\n",
                "            total_value += p[1] * fraction\r\n",
                "            break \r\n",
                "    \r\n",
                "    return total_value"
            ],
            "outputs": [],
            "metadata": {}
        },
        {
            "cell_type": "code",
            "execution_count": 2,
            "source": [
                "cargo = [\r\n",
                "    (4, 12),\r\n",
                "    (2, 1),\r\n",
                "    (10, 4),\r\n",
                "    (1, 1),\r\n",
                "    (2, 2)\r\n",
                "]\r\n",
                "pack = []\r\n",
                "for c in cargo:\r\n",
                "    pack.append((c[0] / c[1], c[0], c[1]))\r\n",
                "\r\n",
                "pack.sort(key= lambda x : x[2])\r\n",
                "pack\r\n"
            ],
            "outputs": [
                {
                    "output_type": "execute_result",
                    "data": {
                        "text/plain": [
                            "[(2.0, 2, 1),\n",
                            " (1.0, 1, 1),\n",
                            " (1.0, 2, 2),\n",
                            " (2.5, 10, 4),\n",
                            " (0.3333333333333333, 4, 12)]"
                        ]
                    },
                    "metadata": {},
                    "execution_count": 2
                }
            ],
            "metadata": {}
        },
        {
            "cell_type": "markdown",
            "source": [
                "## 주식을 사고팔기 가장 좋은 시점 "
            ],
            "metadata": {}
        },
        {
            "cell_type": "code",
            "execution_count": null,
            "source": [
                "class Solution:\r\n",
                "    def maxProfit(self, prices: List[int]) -> int:\r\n",
                "        return sum([prices[i]-prices[i-1] for i in range(1,len(prices)) if prices[i] > prices[i-1]])"
            ],
            "outputs": [],
            "metadata": {}
        },
        {
            "cell_type": "markdown",
            "source": [
                "## 키에 따른 대기열 재구성 "
            ],
            "metadata": {}
        },
        {
            "cell_type": "code",
            "execution_count": 7,
            "source": [
                "sorted([[7, 0], [4, 4], [7, 1], [5, 0], [6, 1], [5, 2]], reverse=True, key = lambda x: (x[0], -x[1]))"
            ],
            "outputs": [
                {
                    "output_type": "execute_result",
                    "data": {
                        "text/plain": [
                            "[[7, 0], [7, 1], [6, 1], [5, 0], [5, 2], [4, 4]]"
                        ]
                    },
                    "metadata": {},
                    "execution_count": 7
                }
            ],
            "metadata": {}
        },
        {
            "cell_type": "code",
            "execution_count": null,
            "source": [
                "import heapq\r\n",
                "\r\n",
                "class Solution:\r\n",
                "    def reconstructQueue(self, people: List[List[int]]):\r\n",
                "        people.sort(reverse=True, key = lambda x: (x[0], -x[1]))\r\n",
                "        \r\n",
                "        result = []\r\n",
                "        for person in people:\r\n",
                "            result.insert(person[1], [person[0], person[1]])\r\n",
                "        return result\r\n",
                "        \r\n",
                "        # 책 풀이\r\n",
                "        # heap = []\r\n",
                "        # for person in people:\r\n",
                "        #     heapq.heappush(heap, (-person[0], person[1]))\r\n",
                "\r\n",
                "        # result = []\r\n",
                "        # while heap:\r\n",
                "        #     person = heapq.heappop(heap)\r\n",
                "        #     result.insert(person[1], [-person[0], person[1]])\r\n",
                "        # return result\r\n",
                "        "
            ],
            "outputs": [],
            "metadata": {}
        },
        {
            "cell_type": "markdown",
            "source": [
                "## 태스크 스케쥴러"
            ],
            "metadata": {}
        },
        {
            "cell_type": "markdown",
            "source": [
                "### 그리디"
            ],
            "metadata": {}
        },
        {
            "cell_type": "code",
            "execution_count": null,
            "source": [
                "class Solution:\r\n",
                "    def leastInterval(self, tasks: List[str], n: int):\r\n",
                "        counter = collections.Counter(tasks)\r\n",
                "        result = 0\r\n",
                "\r\n",
                "        while True:\r\n",
                "            sub_count = 0\r\n",
                "\r\n",
                "            for task, _ in counter.most_common(n + 1):\r\n",
                "                sub_count += 1\r\n",
                "                result += 1\r\n",
                "\r\n",
                "                counter.subtract(task)\r\n",
                "                counter += collections.Counter()\r\n",
                "\r\n",
                "            if not counter:\r\n",
                "                break\r\n",
                "\r\n",
                "            result += n - sub_count + 1\r\n",
                "\r\n",
                "        return result"
            ],
            "outputs": [],
            "metadata": {}
        },
        {
            "cell_type": "markdown",
            "source": [
                "### 행렬(?)"
            ],
            "metadata": {}
        },
        {
            "cell_type": "code",
            "execution_count": null,
            "source": [
                "import collections\r\n",
                "\r\n",
                "class Solution:\r\n",
                "    def leastInterval(self, tasks: List[str], n: int):\r\n",
                "        c = collections.Counter(tasks)\r\n",
                "        freq = sorted(list(c.values()))\r\n",
                "        max_f = freq.pop()\r\n",
                "        idle = (max_f - 1) * n\r\n",
                "        while freq and idle >= 0:\r\n",
                "            idle -= min(max_f - 1, freq.pop())\r\n",
                "        return len(tasks) + max(idle,0)"
            ],
            "outputs": [],
            "metadata": {}
        },
        {
            "cell_type": "code",
            "execution_count": null,
            "source": [
                "class Solution:\r\n",
                "    def leastInterval(self, tasks, n):\r\n",
                "        if tasks == []:\r\n",
                "            return 0\r\n",
                "        freqs = list(Counter(tasks).values())\r\n",
                "        f_max = max(freqs)\r\n",
                "        num_f_max = freqs.count(f_max)\r\n",
                "        needed_to_fill = (n + 1 - num_f_max) * (f_max - 1)\r\n",
                "        remaining = len(tasks) - f_max * num_f_max\r\n",
                "        return f_max * num_f_max + max(needed_to_fill, remaining)"
            ],
            "outputs": [],
            "metadata": {}
        },
        {
            "cell_type": "markdown",
            "source": [
                "## 주유소"
            ],
            "metadata": {}
        },
        {
            "cell_type": "markdown",
            "source": [
                "### 모두 방문 \r\n",
                "\r\n",
                "모든 주유소를 방문 가능한지 점검하고, 가능할 경우 출발점이 유일하다는 제약이 있기 때문에 해당 출발점을 결과로 리턴 "
            ],
            "metadata": {}
        },
        {
            "cell_type": "code",
            "execution_count": null,
            "source": [
                "class Solution:\r\n",
                "    def canCompleteCircuit(self, gas: List[int], cost: List[int]) -> int:\r\n",
                "        for start in range(len(gas)):\r\n",
                "            fuel = 0 \r\n",
                "            for i in range(start, len(gas) + start):\r\n",
                "                idx = i % len(gas)\r\n",
                "                can_travel = True \r\n",
                "\r\n",
                "                if gas[idx] + fuel < cost[idx]:\r\n",
                "                    can_travel = False \r\n",
                "                    break \r\n",
                "                else: \r\n",
                "                    fuel += gas[idx] - cost[idx]\r\n",
                "            if can_travel:\r\n",
                "                return start \r\n",
                "        return -1 "
            ],
            "outputs": [],
            "metadata": {}
        },
        {
            "cell_type": "markdown",
            "source": [
                "$O(n^2)$"
            ],
            "metadata": {}
        },
        {
            "cell_type": "markdown",
            "source": [
                "### 한 번 방문\r\n",
                "\r\n",
                "출발점이 유일하다는 제약이 있으므로, 반드시 한 군데만 존재. "
            ],
            "metadata": {}
        },
        {
            "cell_type": "code",
            "execution_count": null,
            "source": [
                "class Solution:\r\n",
                "    def canCompleteCircuit(self, gas: List[int], cost: List[int]) -> int:\r\n",
                "        if sum(gas) < sum(cost):\r\n",
                "            return -1\r\n",
                "\r\n",
                "        fuel, start = 0, 0\r\n",
                "        for i in range(len(gas)):\r\n",
                "            if gas[i] + fuel < cost[i]:\r\n",
                "                start = i + 1\r\n",
                "                fuel = 0\r\n",
                "            else:\r\n",
                "                fuel += gas[i] - cost[i]\r\n",
                "\r\n",
                "        return start\r\n",
                "\r\n",
                "\r\n",
                "if __name__ == \"__main__\":\r\n",
                "    gas = [5, 1, 2, 3, 4]\r\n",
                "    cost = [4, 4, 1, 5, 1]\r\n",
                "    s = Solution()\r\n",
                "    print(s.canCompleteCircuit(gas, cost))"
            ],
            "outputs": [],
            "metadata": {}
        },
        {
            "cell_type": "markdown",
            "source": [
                "$O(n)$"
            ],
            "metadata": {}
        },
        {
            "cell_type": "markdown",
            "source": [
                "## 쿠키 부여"
            ],
            "metadata": {}
        },
        {
            "cell_type": "code",
            "execution_count": null,
            "source": [
                "class Solution:\r\n",
                "    def findContentChildren(self, g: List[int], s: List[int]):\r\n",
                "        g.sort(reverse=True)\r\n",
                "        s.sort(reverse=True)\r\n",
                "\r\n",
                "        i, j = 0, 0\r\n",
                "        while j < len(s) and i < len(g):\r\n",
                "            if g[i] <= s[j]:\r\n",
                "                j += 1\r\n",
                "            i += 1\r\n",
                "\r\n",
                "        return j"
            ],
            "outputs": [],
            "metadata": {}
        },
        {
            "cell_type": "markdown",
            "source": [
                "# 분할 정복 "
            ],
            "metadata": {}
        },
        {
            "cell_type": "markdown",
            "source": [
                "## 과반수 엘리먼트"
            ],
            "metadata": {}
        },
        {
            "cell_type": "code",
            "execution_count": null,
            "source": [
                "class Solution:\r\n",
                "    def majorityElement(self, nums: List[int]) -> int:\r\n",
                "        return sorted(nums, reverse=True)[len(nums) // 2]"
            ],
            "outputs": [],
            "metadata": {}
        },
        {
            "cell_type": "code",
            "execution_count": null,
            "source": [
                "class Solution:\r\n",
                "    def majorityElement(self, nums: List[int]) -> int:\r\n",
                "        counter = collections.defaultdict(int)\r\n",
                "        for num in nums:\r\n",
                "            if counter[num] == 0:\r\n",
                "                counter[num] = nums.count(num)\r\n",
                "            if counter[num] > (len(nums) // 2):\r\n",
                "                return num"
            ],
            "outputs": [],
            "metadata": {}
        },
        {
            "cell_type": "code",
            "execution_count": 2,
            "source": [
                "str(10)"
            ],
            "outputs": [
                {
                    "output_type": "execute_result",
                    "data": {
                        "text/plain": [
                            "'10'"
                        ]
                    },
                    "metadata": {},
                    "execution_count": 2
                }
            ],
            "metadata": {}
        },
        {
            "cell_type": "markdown",
            "source": [
                "## 과반수 엘리먼트 2 "
            ],
            "metadata": {}
        },
        {
            "cell_type": "code",
            "execution_count": null,
            "source": [
                "class Solution:\r\n",
                "    def majorityElement(self, nums: List[int]) -> List[int]:\r\n",
                "        counter = collections.defaultdict(int)\r\n",
                "        criteria = math.floor(len(nums) / 3)\r\n",
                "        result = []\r\n",
                "        len_result = 0\r\n",
                "        for num in nums:\r\n",
                "            if counter[num] == 0:\r\n",
                "                counter[num] = nums.count(num)\r\n",
                "                \r\n",
                "                if counter[num] > criteria:\r\n",
                "                    result.append(num)\r\n",
                "                    len_result += 1 \r\n",
                "                    if len_result == 3:\r\n",
                "                        break\r\n",
                "                        \r\n",
                "            else:\r\n",
                "                continue\r\n",
                "        return result"
            ],
            "outputs": [],
            "metadata": {}
        },
        {
            "cell_type": "markdown",
            "source": [
                "## 괄호를 삽입하는 여러 가지 방법"
            ],
            "metadata": {}
        },
        {
            "cell_type": "code",
            "execution_count": null,
            "source": [
                "class Solution:\r\n",
                "    def diffWaysToCompute(self, expression: str) -> List[int]:\r\n",
                "        def compute(left, right, op):\r\n",
                "            result = []\r\n",
                "            for l in left:\r\n",
                "                for r in right:\r\n",
                "                    result.append(eval(str(l) + op + str(r)))\r\n",
                "            return result\r\n",
                "\r\n",
                "        if expression.isdigit():\r\n",
                "            return [int(expression)]\r\n",
                "\r\n",
                "        result = []\r\n",
                "        for idx, val in enumerate(expression):\r\n",
                "            if val in \"+-*\":\r\n",
                "                left = self.diffWaysToCompute(expression[:idx])\r\n",
                "                right = self.diffWaysToCompute(expression[idx + 1 :])\r\n",
                "\r\n",
                "                result.extend(compute(left, right, val))\r\n",
                "        return result"
            ],
            "outputs": [],
            "metadata": {}
        },
        {
            "cell_type": "markdown",
            "source": [
                "# 다이나믹 프로그래밍"
            ],
            "metadata": {}
        },
        {
            "cell_type": "markdown",
            "source": [
                "## 피보나치 수열"
            ],
            "metadata": {}
        },
        {
            "cell_type": "code",
            "execution_count": null,
            "source": [
                "class Solution:\r\n",
                "    def fib(self, n: int) -> int:\r\n",
                "        x, y = 0, 1\r\n",
                "\r\n",
                "        for i in range(2, n + 1):\r\n",
                "            x, y = y, x + y\r\n",
                "\r\n",
                "        return y"
            ],
            "outputs": [],
            "metadata": {}
        },
        {
            "cell_type": "markdown",
            "source": [
                "## non fractional 0-1 배낭 문제"
            ],
            "metadata": {}
        },
        {
            "cell_type": "code",
            "execution_count": null,
            "source": [
                "def fractional_knapsack(cargo):\r\n",
                "    capacity = 15\r\n",
                "    pack = []\r\n",
                "\r\n",
                "    for i in range(len(cargo) + 1):\r\n",
                "        pack.append([])\r\n",
                "        for c in range(capacity + 1):\r\n",
                "            if i == 0 or c == 0:\r\n",
                "                pack[i].append(0)\r\n",
                "            elif cargo[i - 1][1] <= c:\r\n",
                "                pack[i].append(\r\n",
                "                    max(cargo[i - 1][0] + pack[i - 1][c - cargo[i - 1][1]], pack[i - 1][c])\r\n",
                "                )\r\n",
                "            else:\r\n",
                "                pack[i].append(pack[i - 1][c])\r\n",
                "\r\n",
                "    return pack[-1][-1]"
            ],
            "outputs": [],
            "metadata": {}
        },
        {
            "cell_type": "markdown",
            "source": [
                "## 최대 서브 배열"
            ],
            "metadata": {}
        },
        {
            "cell_type": "code",
            "execution_count": 11,
            "source": [
                "class Solution:\r\n",
                "    def maxSubArray(self, nums: List[int]) -> int:\r\n",
                "        for i in range(1, len(nums)):\r\n",
                "            nums[i] += nums[i - 1] if nums[i - 1] > 0 else 0\r\n",
                "        return max(nums)"
            ],
            "outputs": [
                {
                    "output_type": "error",
                    "ename": "NameError",
                    "evalue": "name 'List' is not defined",
                    "traceback": [
                        "\u001b[1;31m---------------------------------------------------------------------------\u001b[0m",
                        "\u001b[1;31mNameError\u001b[0m                                 Traceback (most recent call last)",
                        "\u001b[1;32m<ipython-input-11-2cd45dcd77df>\u001b[0m in \u001b[0;36m<module>\u001b[1;34m\u001b[0m\n\u001b[1;32m----> 1\u001b[1;33m \u001b[1;32mclass\u001b[0m \u001b[0mSolution\u001b[0m\u001b[1;33m:\u001b[0m\u001b[1;33m\u001b[0m\u001b[1;33m\u001b[0m\u001b[0m\n\u001b[0m\u001b[0;32m      2\u001b[0m     \u001b[1;32mdef\u001b[0m \u001b[0mmaxSubArray\u001b[0m\u001b[1;33m(\u001b[0m\u001b[0mself\u001b[0m\u001b[1;33m,\u001b[0m \u001b[0mnums\u001b[0m\u001b[1;33m:\u001b[0m \u001b[0mList\u001b[0m\u001b[1;33m[\u001b[0m\u001b[0mint\u001b[0m\u001b[1;33m]\u001b[0m\u001b[1;33m)\u001b[0m \u001b[1;33m->\u001b[0m \u001b[0mint\u001b[0m\u001b[1;33m:\u001b[0m\u001b[1;33m\u001b[0m\u001b[1;33m\u001b[0m\u001b[0m\n\u001b[0;32m      3\u001b[0m         \u001b[1;32mfor\u001b[0m \u001b[0mi\u001b[0m \u001b[1;32min\u001b[0m \u001b[0mrange\u001b[0m\u001b[1;33m(\u001b[0m\u001b[1;36m1\u001b[0m\u001b[1;33m,\u001b[0m \u001b[0mlen\u001b[0m\u001b[1;33m(\u001b[0m\u001b[0mnums\u001b[0m\u001b[1;33m)\u001b[0m\u001b[1;33m)\u001b[0m\u001b[1;33m:\u001b[0m\u001b[1;33m\u001b[0m\u001b[1;33m\u001b[0m\u001b[0m\n\u001b[0;32m      4\u001b[0m             \u001b[0mnums\u001b[0m\u001b[1;33m[\u001b[0m\u001b[0mi\u001b[0m\u001b[1;33m]\u001b[0m \u001b[1;33m+=\u001b[0m \u001b[0mnums\u001b[0m\u001b[1;33m[\u001b[0m\u001b[0mi\u001b[0m \u001b[1;33m-\u001b[0m \u001b[1;36m1\u001b[0m\u001b[1;33m]\u001b[0m \u001b[1;32mif\u001b[0m \u001b[0mnums\u001b[0m\u001b[1;33m[\u001b[0m\u001b[0mi\u001b[0m \u001b[1;33m-\u001b[0m \u001b[1;36m1\u001b[0m\u001b[1;33m]\u001b[0m \u001b[1;33m>\u001b[0m \u001b[1;36m0\u001b[0m \u001b[1;32melse\u001b[0m \u001b[1;36m0\u001b[0m\u001b[1;33m\u001b[0m\u001b[1;33m\u001b[0m\u001b[0m\n\u001b[0;32m      5\u001b[0m         \u001b[1;32mreturn\u001b[0m \u001b[0mmax\u001b[0m\u001b[1;33m(\u001b[0m\u001b[0mnums\u001b[0m\u001b[1;33m)\u001b[0m\u001b[1;33m\u001b[0m\u001b[1;33m\u001b[0m\u001b[0m\n",
                        "\u001b[1;32m<ipython-input-11-2cd45dcd77df>\u001b[0m in \u001b[0;36mSolution\u001b[1;34m()\u001b[0m\n\u001b[0;32m      1\u001b[0m \u001b[1;32mclass\u001b[0m \u001b[0mSolution\u001b[0m\u001b[1;33m:\u001b[0m\u001b[1;33m\u001b[0m\u001b[1;33m\u001b[0m\u001b[0m\n\u001b[1;32m----> 2\u001b[1;33m     \u001b[1;32mdef\u001b[0m \u001b[0mmaxSubArray\u001b[0m\u001b[1;33m(\u001b[0m\u001b[0mself\u001b[0m\u001b[1;33m,\u001b[0m \u001b[0mnums\u001b[0m\u001b[1;33m:\u001b[0m \u001b[0mList\u001b[0m\u001b[1;33m[\u001b[0m\u001b[0mint\u001b[0m\u001b[1;33m]\u001b[0m\u001b[1;33m)\u001b[0m \u001b[1;33m->\u001b[0m \u001b[0mint\u001b[0m\u001b[1;33m:\u001b[0m\u001b[1;33m\u001b[0m\u001b[1;33m\u001b[0m\u001b[0m\n\u001b[0m\u001b[0;32m      3\u001b[0m         \u001b[1;32mfor\u001b[0m \u001b[0mi\u001b[0m \u001b[1;32min\u001b[0m \u001b[0mrange\u001b[0m\u001b[1;33m(\u001b[0m\u001b[1;36m1\u001b[0m\u001b[1;33m,\u001b[0m \u001b[0mlen\u001b[0m\u001b[1;33m(\u001b[0m\u001b[0mnums\u001b[0m\u001b[1;33m)\u001b[0m\u001b[1;33m)\u001b[0m\u001b[1;33m:\u001b[0m\u001b[1;33m\u001b[0m\u001b[1;33m\u001b[0m\u001b[0m\n\u001b[0;32m      4\u001b[0m             \u001b[0mnums\u001b[0m\u001b[1;33m[\u001b[0m\u001b[0mi\u001b[0m\u001b[1;33m]\u001b[0m \u001b[1;33m+=\u001b[0m \u001b[0mnums\u001b[0m\u001b[1;33m[\u001b[0m\u001b[0mi\u001b[0m \u001b[1;33m-\u001b[0m \u001b[1;36m1\u001b[0m\u001b[1;33m]\u001b[0m \u001b[1;32mif\u001b[0m \u001b[0mnums\u001b[0m\u001b[1;33m[\u001b[0m\u001b[0mi\u001b[0m \u001b[1;33m-\u001b[0m \u001b[1;36m1\u001b[0m\u001b[1;33m]\u001b[0m \u001b[1;33m>\u001b[0m \u001b[1;36m0\u001b[0m \u001b[1;32melse\u001b[0m \u001b[1;36m0\u001b[0m\u001b[1;33m\u001b[0m\u001b[1;33m\u001b[0m\u001b[0m\n\u001b[0;32m      5\u001b[0m         \u001b[1;32mreturn\u001b[0m \u001b[0mmax\u001b[0m\u001b[1;33m(\u001b[0m\u001b[0mnums\u001b[0m\u001b[1;33m)\u001b[0m\u001b[1;33m\u001b[0m\u001b[1;33m\u001b[0m\u001b[0m\n",
                        "\u001b[1;31mNameError\u001b[0m: name 'List' is not defined"
                    ]
                }
            ],
            "metadata": {}
        },
        {
            "cell_type": "markdown",
            "source": [
                "## Maximum Product Subarray"
            ],
            "metadata": {}
        },
        {
            "cell_type": "code",
            "execution_count": 32,
            "source": [
                "class Solution:\r\n",
                "    def maxProduct(self, nums: List[int]):\r\n",
                "        local_max_product = 1\r\n",
                "        local_min_product = 1\r\n",
                "        global_max_product = float(\"-inf\")\r\n",
                "\r\n",
                "        for num in nums:\r\n",
                "            if num < 0:\r\n",
                "                local_max_product, local_min_product = local_min_product, local_max_product\r\n",
                "\r\n",
                "            local_max_product = max(num, local_max_product * num)\r\n",
                "            local_min_product = min(num, local_min_product * num)\r\n",
                "\r\n",
                "            global_max_product = max(global_max_product, local_max_product)\r\n",
                "\r\n",
                "        return global_max_product"
            ],
            "outputs": [
                {
                    "output_type": "error",
                    "ename": "NameError",
                    "evalue": "name 'List' is not defined",
                    "traceback": [
                        "\u001b[1;31m---------------------------------------------------------------------------\u001b[0m",
                        "\u001b[1;31mNameError\u001b[0m                                 Traceback (most recent call last)",
                        "\u001b[1;32m<ipython-input-32-ba51f6f7c507>\u001b[0m in \u001b[0;36m<module>\u001b[1;34m\u001b[0m\n\u001b[1;32m----> 1\u001b[1;33m \u001b[1;32mclass\u001b[0m \u001b[0mSolution\u001b[0m\u001b[1;33m:\u001b[0m\u001b[1;33m\u001b[0m\u001b[1;33m\u001b[0m\u001b[0m\n\u001b[0m\u001b[0;32m      2\u001b[0m     \u001b[1;32mdef\u001b[0m \u001b[0mmaxProduct\u001b[0m\u001b[1;33m(\u001b[0m\u001b[0mself\u001b[0m\u001b[1;33m,\u001b[0m \u001b[0mnums\u001b[0m\u001b[1;33m:\u001b[0m \u001b[0mList\u001b[0m\u001b[1;33m[\u001b[0m\u001b[0mint\u001b[0m\u001b[1;33m]\u001b[0m\u001b[1;33m)\u001b[0m\u001b[1;33m:\u001b[0m\u001b[1;33m\u001b[0m\u001b[1;33m\u001b[0m\u001b[0m\n\u001b[0;32m      3\u001b[0m         \u001b[0mlocal_max_product\u001b[0m \u001b[1;33m=\u001b[0m \u001b[1;36m1\u001b[0m\u001b[1;33m\u001b[0m\u001b[1;33m\u001b[0m\u001b[0m\n\u001b[0;32m      4\u001b[0m         \u001b[0mlocal_min_product\u001b[0m \u001b[1;33m=\u001b[0m \u001b[1;36m1\u001b[0m\u001b[1;33m\u001b[0m\u001b[1;33m\u001b[0m\u001b[0m\n\u001b[0;32m      5\u001b[0m         \u001b[0mglobal_max_product\u001b[0m \u001b[1;33m=\u001b[0m \u001b[0mfloat\u001b[0m\u001b[1;33m(\u001b[0m\u001b[1;34m\"-inf\"\u001b[0m\u001b[1;33m)\u001b[0m\u001b[1;33m\u001b[0m\u001b[1;33m\u001b[0m\u001b[0m\n",
                        "\u001b[1;32m<ipython-input-32-ba51f6f7c507>\u001b[0m in \u001b[0;36mSolution\u001b[1;34m()\u001b[0m\n\u001b[0;32m      1\u001b[0m \u001b[1;32mclass\u001b[0m \u001b[0mSolution\u001b[0m\u001b[1;33m:\u001b[0m\u001b[1;33m\u001b[0m\u001b[1;33m\u001b[0m\u001b[0m\n\u001b[1;32m----> 2\u001b[1;33m     \u001b[1;32mdef\u001b[0m \u001b[0mmaxProduct\u001b[0m\u001b[1;33m(\u001b[0m\u001b[0mself\u001b[0m\u001b[1;33m,\u001b[0m \u001b[0mnums\u001b[0m\u001b[1;33m:\u001b[0m \u001b[0mList\u001b[0m\u001b[1;33m[\u001b[0m\u001b[0mint\u001b[0m\u001b[1;33m]\u001b[0m\u001b[1;33m)\u001b[0m\u001b[1;33m:\u001b[0m\u001b[1;33m\u001b[0m\u001b[1;33m\u001b[0m\u001b[0m\n\u001b[0m\u001b[0;32m      3\u001b[0m         \u001b[0mlocal_max_product\u001b[0m \u001b[1;33m=\u001b[0m \u001b[1;36m1\u001b[0m\u001b[1;33m\u001b[0m\u001b[1;33m\u001b[0m\u001b[0m\n\u001b[0;32m      4\u001b[0m         \u001b[0mlocal_min_product\u001b[0m \u001b[1;33m=\u001b[0m \u001b[1;36m1\u001b[0m\u001b[1;33m\u001b[0m\u001b[1;33m\u001b[0m\u001b[0m\n\u001b[0;32m      5\u001b[0m         \u001b[0mglobal_max_product\u001b[0m \u001b[1;33m=\u001b[0m \u001b[0mfloat\u001b[0m\u001b[1;33m(\u001b[0m\u001b[1;34m\"-inf\"\u001b[0m\u001b[1;33m)\u001b[0m\u001b[1;33m\u001b[0m\u001b[1;33m\u001b[0m\u001b[0m\n",
                        "\u001b[1;31mNameError\u001b[0m: name 'List' is not defined"
                    ]
                }
            ],
            "metadata": {}
        }
    ],
    "metadata": {
        "orig_nbformat": 4,
        "language_info": {
            "name": "python",
            "version": "3.9.0",
            "mimetype": "text/x-python",
            "codemirror_mode": {
                "name": "ipython",
                "version": 3
            },
            "pygments_lexer": "ipython3",
            "nbconvert_exporter": "python",
            "file_extension": ".py"
        },
        "kernelspec": {
            "name": "python3",
            "display_name": "Python 3.9.0 64-bit"
        },
        "interpreter": {
            "hash": "247ab06e135bb35fa78c5eff31b2a9a0050dcb5fb773c2631d2a29ac689eeccb"
        }
    },
    "nbformat": 4,
    "nbformat_minor": 2
}