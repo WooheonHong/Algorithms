{
 "metadata": {
  "language_info": {
   "codemirror_mode": {
    "name": "ipython",
    "version": 3
   },
   "file_extension": ".py",
   "mimetype": "text/x-python",
   "name": "python",
   "nbconvert_exporter": "python",
   "pygments_lexer": "ipython3",
   "version": "3.9.0"
  },
  "orig_nbformat": 2,
  "kernelspec": {
   "name": "python3",
   "display_name": "Python 3.9.0 64-bit"
  },
  "metadata": {
   "interpreter": {
    "hash": "247ab06e135bb35fa78c5eff31b2a9a0050dcb5fb773c2631d2a29ac689eeccb"
   }
  },
  "interpreter": {
   "hash": "247ab06e135bb35fa78c5eff31b2a9a0050dcb5fb773c2631d2a29ac689eeccb"
  }
 },
 "nbformat": 4,
 "nbformat_minor": 2,
 "cells": [
  {
   "source": [
    "# Ch6. 문자열 조작 "
   ],
   "cell_type": "markdown",
   "metadata": {}
  },
  {
   "source": [
    "## palindrome\n",
    "\n",
    "Given a string s, determine if it is a palindrome, considering only alphanumeric characters and ignoring cases.\n",
    "\n",
    "### List \n"
   ],
   "cell_type": "markdown",
   "metadata": {}
  },
  {
   "cell_type": "code",
   "execution_count": 2,
   "metadata": {},
   "outputs": [],
   "source": [
    "def is_palindrome(s: str) -> bool:\n",
    "    strs = []\n",
    "    for char in s:\n",
    "        if char.isalnum():\n",
    "            strs.append(char.lower())\n",
    "\n",
    "    while len(strs) > 1:\n",
    "        if strs.pop(0) != strs.pop():\n",
    "            return False \n",
    "\n",
    "    return True "
   ]
  },
  {
   "source": [
    "### Deque"
   ],
   "cell_type": "markdown",
   "metadata": {}
  },
  {
   "cell_type": "code",
   "execution_count": null,
   "metadata": {},
   "outputs": [],
   "source": [
    "import collections\n",
    "\n",
    "def is_palindrome(s: str) -> bool:\n",
    "    strs : Deque = collections.deque()\n",
    "    for char in s:\n",
    "        if char.isalnum():\n",
    "            strs.append(char.lower())\n",
    "\n",
    "    while len(strs) > 1:\n",
    "        if strs.popleft() != strs.pop():\n",
    "            return False \n",
    "\n",
    "    return True "
   ]
  },
  {
   "source": [
    "### slicing "
   ],
   "cell_type": "markdown",
   "metadata": {}
  },
  {
   "cell_type": "code",
   "execution_count": 3,
   "metadata": {},
   "outputs": [],
   "source": [
    "import collections\n",
    "\n",
    "def is_palindrome(s: str) -> bool:\n",
    "    s = s.lower()\n",
    "    s = re.sub('[^a-z0-9]', '', s)\n",
    "\n",
    "    return s == s[::-1]"
   ]
  },
  {
   "source": [
    "## Reverse String"
   ],
   "cell_type": "markdown",
   "metadata": {}
  },
  {
   "cell_type": "code",
   "execution_count": 4,
   "metadata": {},
   "outputs": [
    {
     "output_type": "execute_result",
     "data": {
      "text/plain": [
       "['c', 'b', 'a']"
      ]
     },
     "metadata": {},
     "execution_count": 4
    }
   ],
   "source": [
    "s = ['a', 'b', 'c']\n",
    "s[::-1]\n"
   ]
  },
  {
   "source": [
    "코드 자체는 문제가 없지만 파이썬은 새로운 객체를 만들어 버리기 때문에 제약 조건 공간복잡도 O(1)에 위반된다. \n",
    "\n",
    "따라서 s[:] = s[::-1] 로 코딩해야한다. \n",
    "\n",
    "거의 차이는 없지만 s.reverse()가 좀 더 빠르다. \n"
   ],
   "cell_type": "markdown",
   "metadata": {}
  },
  {
   "cell_type": "code",
   "execution_count": 5,
   "metadata": {},
   "outputs": [],
   "source": [
    "s.reverse()"
   ]
  },
  {
   "source": [
    "## reorder data in log files"
   ],
   "cell_type": "markdown",
   "metadata": {}
  },
  {
   "source": [
    "You are given an array of logs. Each log is a space-delimited string of words, where the first word is the identifier.\n",
    "\n",
    "There are two types of logs:\n",
    "\n",
    "- Letter-logs: All words (except the identifier) consist of lowercase English letters.\n",
    "- Digit-logs: All words (except the identifier) consist of digits.\n",
    "Reorder these logs so that:\n",
    "\n",
    "1. The letter-logs come before all digit-logs.\n",
    "2. The letter-logs are sorted lexicographically by their contents. If their contents are the same, then sort them lexicographically by their identifiers.\n",
    "3. The digit-logs maintain their relative ordering.\n",
    "Return the final order of the logs.\n",
    "\n"
   ],
   "cell_type": "markdown",
   "metadata": {}
  },
  {
   "cell_type": "code",
   "execution_count": 18,
   "metadata": {},
   "outputs": [],
   "source": [
    "from typing import List\n",
    "\n",
    "def reorder_log_files(logs: List[str]) -> List[str]:\n",
    "    letters, digits = [], []\n",
    "    for log in logs:\n",
    "        print(log.split()[1])\n",
    "        if log.split()[1].isdigit():\n",
    "            digits.append(log)\n",
    "        else:\n",
    "            letters.append(log)\n",
    "    letters.sort(key=lambda x: (x.split()[1:], x.split()[0]))\n",
    "    return letters + digits "
   ]
  },
  {
   "cell_type": "code",
   "execution_count": 19,
   "metadata": {},
   "outputs": [
    {
     "output_type": "stream",
     "name": "stdout",
     "text": [
      "8\nart\n3\nown\nart\n"
     ]
    },
    {
     "output_type": "execute_result",
     "data": {
      "text/plain": [
       "['let1 art can',\n",
       " 'let3 art zero',\n",
       " 'let2 own kit dig',\n",
       " 'dig1 8 1 5 1',\n",
       " 'dig2 3 6']"
      ]
     },
     "metadata": {},
     "execution_count": 19
    }
   ],
   "source": [
    "logs = [\"dig1 8 1 5 1\",\"let1 art can\",\"dig2 3 6\",\"let2 own kit dig\",\"let3 art zero\"]\n",
    "reorder_log_files(logs)"
   ]
  },
  {
   "source": [
    "## most common word\n",
    "\n",
    "Given a string paragraph and a string array of the banned words banned, return the most frequent word that is not banned. It is guaranteed there is at least one word that is not banned, and that the answer is unique.\n",
    "\n",
    "The words in paragraph are case-insensitive and the answer should be returned in lowercase."
   ],
   "cell_type": "markdown",
   "metadata": {}
  },
  {
   "cell_type": "code",
   "execution_count": 75,
   "metadata": {},
   "outputs": [],
   "source": [
    "import collections\n",
    "import re \n",
    "\n",
    "def mostCommonWord(paragraph: str, banned: List[str]) -> str:\n",
    "    words = [word for word in re.sub(r'[^\\w]', ' ', paragraph).lower().split() \n",
    "        if word not in banned]\n",
    "    print(words)\n",
    "    counts = collections.Counter(words)\n",
    "    return counts.most_common(1)[0][0]"
   ]
  },
  {
   "cell_type": "code",
   "execution_count": 71,
   "metadata": {},
   "outputs": [],
   "source": [
    "def mostCommonWord(paragraph: str, banned: List[str]) -> str:\n",
    "    words = [word for word in re.sub(r'[^\\w]', ' ', paragraph)\n",
    "        .lower().split()\n",
    "                if word not in banned]\n",
    "\n",
    "    counts = collections.Counter(words)\n",
    "    # 가장 흔하게 등장하는 단어의 첫 번째 인덱스 리턴\n",
    "    return counts.most_common(1)[0][0]"
   ]
  },
  {
   "cell_type": "code",
   "execution_count": 76,
   "metadata": {},
   "outputs": [
    {
     "output_type": "stream",
     "name": "stdout",
     "text": [
      "['bob', 'a', 'ball', 'the', 'ball', 'flew', 'far', 'after', 'it', 'was']\n"
     ]
    },
    {
     "output_type": "execute_result",
     "data": {
      "text/plain": [
       "'ball'"
      ]
     },
     "metadata": {},
     "execution_count": 76
    }
   ],
   "source": [
    "paragraph = \"Bob hit a ball, the hit BALL flew far after it was hit.\"\n",
    "banned = [\"hit\"]\n",
    "mostCommonWord(paragraph, banned)\n",
    "# re.findall(r\"\\w\", \"\", paragraph)"
   ]
  },
  {
   "source": [
    "##  Group Anagrams\n",
    "\n",
    "Given an array of strings strs, group the anagrams together. You can return the answer in any order.\n",
    "\n",
    "An Anagram is a word or phrase formed by rearranging the letters of a different word or phrase, typically using all the original letters exactly once."
   ],
   "cell_type": "markdown",
   "metadata": {}
  },
  {
   "cell_type": "code",
   "execution_count": null,
   "metadata": {},
   "outputs": [],
   "source": [
    "def groupAnagrams(strs: List[str]) -> List[List[str]]:\n",
    "    anagrams = collections.defaultdict(list)\n",
    "\n",
    "    for word in strs:\n",
    "        # 정렬하여 딕셔너리에 추가 \n",
    "        anagrams[''.join(sorted(word))].append(word)\n",
    "    return anagrams.values()"
   ]
  },
  {
   "source": [
    "## 여러 가지 정렬 방법"
   ],
   "cell_type": "markdown",
   "metadata": {}
  },
  {
   "cell_type": "code",
   "execution_count": 78,
   "metadata": {},
   "outputs": [
    {
     "output_type": "execute_result",
     "data": {
      "text/plain": [
       "[1, 2, 5, 7, 9]"
      ]
     },
     "metadata": {},
     "execution_count": 78
    }
   ],
   "source": [
    "a = [2, 5, 1, 9, 7]\n",
    "sorted(a)"
   ]
  },
  {
   "cell_type": "code",
   "execution_count": 79,
   "metadata": {},
   "outputs": [
    {
     "output_type": "execute_result",
     "data": {
      "text/plain": [
       "['a', 'b', 'd', 'f', 'z']"
      ]
     },
     "metadata": {},
     "execution_count": 79
    }
   ],
   "source": [
    "b = 'zbdaf'\n",
    "sorted(b)"
   ]
  },
  {
   "cell_type": "code",
   "execution_count": 80,
   "metadata": {},
   "outputs": [
    {
     "output_type": "execute_result",
     "data": {
      "text/plain": [
       "'abdfz'"
      ]
     },
     "metadata": {},
     "execution_count": 80
    }
   ],
   "source": [
    "\"\".join(sorted(b))"
   ]
  },
  {
   "cell_type": "code",
   "execution_count": 81,
   "metadata": {},
   "outputs": [
    {
     "output_type": "execute_result",
     "data": {
      "text/plain": [
       "['d', 'bb', 'ccc', 'aaaa']"
      ]
     },
     "metadata": {},
     "execution_count": 81
    }
   ],
   "source": [
    "c = ['ccc', 'aaaa', 'd', 'bb']\n",
    "sorted(c, key=len)"
   ]
  },
  {
   "cell_type": "code",
   "execution_count": 83,
   "metadata": {},
   "outputs": [
    {
     "output_type": "execute_result",
     "data": {
      "text/plain": [
       "['abc', 'cfc', 'cde']"
      ]
     },
     "metadata": {},
     "execution_count": 83
    }
   ],
   "source": [
    "a = ['cde', 'cfc', 'abc']\n",
    "sorted(a, key=lambda x: (x[0], x[-1]))"
   ]
  },
  {
   "source": [
    "## 가장 긴 팬린드롬 부분 문자열"
   ],
   "cell_type": "markdown",
   "metadata": {}
  },
  {
   "cell_type": "code",
   "execution_count": 85,
   "metadata": {},
   "outputs": [],
   "source": [
    "def longest_palindrome(s: str) -> str:\n",
    "    # 팰린드롬 판별 및 투 포인터 확장 \n",
    "    def expand(left: int, right: int) -> str:\n",
    "        while left >= 0 and right <= len(s) and s[left] == s[right - 1]:\n",
    "            left -= 1\n",
    "            right += 1\n",
    "        return s[left + 1:right - 1] # 헷갈리니 주의 \n",
    "\n",
    "    # 해상 사항이 없을 때 빠르게 리턴 \n",
    "    if len(s) < 2 or s == s[::-1]:\n",
    "        return s \n",
    "    result = ''\n",
    "    # 슬라이딩 윈도우 우측으로 이동 \n",
    "    for i in range(len(s) - 1):\n",
    "        result = max(result,\n",
    "                        expand(i, i + 1),\n",
    "                        expand(i, i + 2),\n",
    "                        key=len)\n",
    "    return result \n",
    "    "
   ]
  },
  {
   "source": [
    "#  배열 "
   ],
   "cell_type": "markdown",
   "metadata": {}
  },
  {
   "source": [
    "파이썬에서는 정적 배열을 따로 제공하지는 않으며 동적 배열인 리스트만 제공한다. 배열은 어느 위치에나 O(1)에 조회가 가능하다는 장점이 있다. 최악의 경우 삽입 시 O(n)이 되지만 Amortized Insertion Time은 O(1)이다. 딕셔너리도 동일한 시간 복잡도를 가진다. "
   ],
   "cell_type": "markdown",
   "metadata": {}
  },
  {
   "source": [
    "## 두 수의 합 "
   ],
   "cell_type": "markdown",
   "metadata": {}
  },
  {
   "source": [
    "### brute force "
   ],
   "cell_type": "markdown",
   "metadata": {}
  },
  {
   "source": [
    "### in을 이용한 탐색 "
   ],
   "cell_type": "markdown",
   "metadata": {}
  },
  {
   "cell_type": "code",
   "execution_count": 94,
   "metadata": {},
   "outputs": [],
   "source": [
    "def twoSum(nums: List[int], target: int) -> List[int]:\n",
    "    for i, n in enumerate(nums):\n",
    "        complement = target - n \n",
    "\n",
    "        if complement in nums[i + 1: ]:\n",
    "            return nums.index(n), nums[i + 1: ].index(complement) + (i + 1)\n",
    "            "
   ]
  },
  {
   "source": [
    "`in`은 O(n)이지만 상수항이 훨씬 작아서 빠르다. "
   ],
   "cell_type": "markdown",
   "metadata": {}
  },
  {
   "cell_type": "code",
   "execution_count": 95,
   "metadata": {},
   "outputs": [
    {
     "output_type": "execute_result",
     "data": {
      "text/plain": [
       "(0, 2)"
      ]
     },
     "metadata": {},
     "execution_count": 95
    }
   ],
   "source": [
    "nums = [3, 2, 3]\n",
    "target = 6\n",
    "twoSum(nums, target)"
   ]
  },
  {
   "source": [
    "### 첫 번째 수를 뺀 결과 키 조회 "
   ],
   "cell_type": "markdown",
   "metadata": {}
  },
  {
   "cell_type": "code",
   "execution_count": 96,
   "metadata": {},
   "outputs": [],
   "source": [
    "def twoSum(nums: List[int], target: int) -> List[int]:\n",
    "    for i, num in enumerate(nums):\n",
    "        # 키와 값을 바꿔서 딕셔너리로 저장 \n",
    "        nums_map[num] = i\n",
    "\n",
    "    # 타겟에서 첫 번째 수를 뺀 결과를 키로 조회 \n",
    "    for i, num in enumerate(nums):\n",
    "        if target - num in nums_map and i != nums_map[target - num]:\n",
    "            return nums.index(num), nums_map[target - num]\n",
    "            "
   ]
  },
  {
   "source": [
    "### 조회 구조 개선 "
   ],
   "cell_type": "markdown",
   "metadata": {}
  },
  {
   "cell_type": "code",
   "execution_count": null,
   "metadata": {},
   "outputs": [],
   "source": [
    "def twoSum(nums: List[int], target: int) -> List[int]:\n",
    "    nums_map = {}\n",
    "    for i, num in enumerate(nums):\n",
    "        if target - num in nums_map and i != nums_map[target - num]:\n",
    "            return [nums_map[target - num], i]\n",
    "        nums_map[num] = i"
   ]
  },
  {
   "source": [
    "## 빗물 트래핑 \n",
    "\n",
    "어렵다 나중에.."
   ],
   "cell_type": "markdown",
   "metadata": {}
  },
  {
   "source": [
    "### 투 포인터를 최대로 이동 "
   ],
   "cell_type": "markdown",
   "metadata": {}
  },
  {
   "cell_type": "code",
   "execution_count": null,
   "metadata": {},
   "outputs": [],
   "source": []
  },
  {
   "source": [
    "### 스택 쌓기 "
   ],
   "cell_type": "markdown",
   "metadata": {}
  },
  {
   "cell_type": "code",
   "execution_count": null,
   "metadata": {},
   "outputs": [],
   "source": []
  },
  {
   "source": [
    "## 세 수의 합 "
   ],
   "cell_type": "markdown",
   "metadata": {}
  },
  {
   "cell_type": "code",
   "execution_count": 99,
   "metadata": {},
   "outputs": [],
   "source": [
    "def threeSum(nums: List[int]) -> List[List[int]]:\n",
    "    results = []\n",
    "    nums.sort()\n",
    "\n",
    "    for i in range(len(nums) - 2):\n",
    "        # 중복된 값 건너뛰기 \n",
    "        if i > 0 and nums[i] == nums[i - 1]:\n",
    "            continue \n",
    "        left, right = i + 1, len(nums) - 1\n",
    "        while left < right:\n",
    "            sum = nums[i] + nums[left] + nums[right]\n",
    "            if sum < 0:\n",
    "                left += 1 \n",
    "                print(f'left : {left}')\n",
    "            elif sum > 0:\n",
    "                right -= 1 \n",
    "                print(f'right : {right}')\n",
    "            else:\n",
    "                while left < right and nums[left] == nums[left + 1]:\n",
    "                    left += 1 \n",
    "                while left > right and nums[right] == nums[right - 1]:\n",
    "                    right -= 1 \n",
    "                results.append([nums[i], nums[left], nums[right]])\n",
    "                left += 1 \n",
    "                right -= 1 \n",
    "\n",
    "    return results "
   ]
  },
  {
   "cell_type": "code",
   "execution_count": 100,
   "metadata": {},
   "outputs": [
    {
     "output_type": "stream",
     "name": "stdout",
     "text": [
      "left : 2\nleft : 3\nleft : 4\nleft : 5\nright : 4\n"
     ]
    },
    {
     "output_type": "execute_result",
     "data": {
      "text/plain": [
       "[[-1, -1, 2], [-1, 0, 1]]"
      ]
     },
     "metadata": {},
     "execution_count": 100
    }
   ],
   "source": [
    "nums = [-1,0,1,2,-1,-4]\n",
    "threeSum(nums)"
   ]
  },
  {
   "source": [
    "## 배열 파티션"
   ],
   "cell_type": "markdown",
   "metadata": {}
  },
  {
   "cell_type": "code",
   "execution_count": null,
   "metadata": {},
   "outputs": [],
   "source": [
    "def arrayPairSum(nums: List[int]) -> int:\n",
    "    sum = 0 \n",
    "    pair = []\n",
    "    nums.sort()\n",
    "\n",
    "    for num in nums:\n",
    "        pair.append(num)\n",
    "        if len(pair) == 2:\n",
    "            sum += min(pair)\n",
    "            pair = []\n",
    "    \n",
    "    return sum "
   ]
  },
  {
   "cell_type": "code",
   "execution_count": 108,
   "metadata": {},
   "outputs": [
    {
     "output_type": "execute_result",
     "data": {
      "text/plain": [
       "[0, 2]"
      ]
     },
     "metadata": {},
     "execution_count": 108
    }
   ],
   "source": [
    "nums = [4, 1, 3, 2]\n",
    "[x for x in range(len(nums)) if x % 2 == 0]"
   ]
  },
  {
   "cell_type": "code",
   "execution_count": 109,
   "metadata": {},
   "outputs": [],
   "source": [
    "def arrayPairSum(nums: List[int]) -> int:\n",
    "    return sum(sorted(nums)[::2]) "
   ]
  },
  {
   "source": [
    "## 자신을 제외한 배열의 곱"
   ],
   "cell_type": "markdown",
   "metadata": {}
  },
  {
   "cell_type": "code",
   "execution_count": 114,
   "metadata": {},
   "outputs": [],
   "source": [
    "def productExceptSelf(nums: List[int]) -> List[int]:\n",
    "    out = []\n",
    "    p = 1\n",
    "    for i in range(len(nums)):\n",
    "        out.append(p)\n",
    "        p = out[i] * nums[i]\n",
    "        \n",
    "    p = 1\n",
    "    for i in range(len(nums) - 1, -1, -1):\n",
    "        out[i] = p * out[i]\n",
    "        p = nums[i] * p\n",
    "            \n",
    "    return out\n"
   ]
  },
  {
   "source": [
    "## 주식을 사고팔기 가장 좋은 시점 "
   ],
   "cell_type": "markdown",
   "metadata": {}
  },
  {
   "cell_type": "code",
   "execution_count": null,
   "metadata": {},
   "outputs": [],
   "source": [
    "def maxProfit(prices: List[int]) -> int:\n",
    "        profit = 0\n",
    "        min_price = sys.maxsize \n",
    "        \n",
    "        # 최솟값과 최댓값을 계속 갱신 \n",
    "        for price in prices:\n",
    "            min_price = min(min_price, price)\n",
    "            profit = max(profit, price - min_price)\n",
    "            \n",
    "        return profit "
   ]
  },
  {
   "source": [
    "# 연결 리스트 "
   ],
   "cell_type": "markdown",
   "metadata": {}
  },
  {
   "cell_type": "code",
   "execution_count": null,
   "metadata": {},
   "outputs": [],
   "source": [
    "연결 리스트는 데이터의 요소의 선형 집합으로, 데이터의 순서가 메모리에 물리적인 순서대로 저장되지는 않는다. \n",
    "\n",
    "연결 리스트는 CS에서 배열과 함께 가장 기본이 되는 대표적인 선형 자료구조 중 하나로 다양한 ADT구현의 기반이 된다. 동적으로 새로운 노드를 삽입하거나 삭제하기가 간편하며, 연결 구조를 통해 물리 메모리를 연속적으로 사용하지 않아도 되기 때문에 관리도 쉽다. 또한 데이터를 구조체로 묶어서 포인터로 연결한다는 개념은 여러 가지 방법으로 다양하게 활용이 가능하다. \n",
    "\n",
    "연결 리스트는 배열과는 달리 특정 인덱스에 접근하기 위해서는 전체를 순서대로 읽어야 하므로 상수 시간에 접근할 수 없다. 즉 탐색에는 O(n)이 소요된다. 반면, 시작 또는 끝 지점에 아이템을 추가하거나 삭제, 추출하는 작업은 O(1)에 가능하다. "
   ]
  },
  {
   "source": [
    "## 팰린드롬 연결 리스트"
   ],
   "cell_type": "markdown",
   "metadata": {}
  },
  {
   "cell_type": "code",
   "execution_count": null,
   "metadata": {},
   "outputs": [],
   "source": [
    "def isPalindrome(self, head: ListNode) -> bool:\n",
    "        \n",
    "    q: Deque = collections.deque()\n",
    "\n",
    "    if not head:\n",
    "        return True \n",
    "\n",
    "    node = head \n",
    "    while head is not None:\n",
    "        q.append(head.val)\n",
    "        head = head.next\n",
    "        \n",
    "    while len(q) > 1:\n",
    "        if q.popleft() != q.pop():\n",
    "            return False \n",
    "\n",
    "    return True"
   ]
  },
  {
   "source": [
    "아니면 아주 약간 느리지만 리스트로 변환해서 `list_ == list_[::-1]` 가능 "
   ],
   "cell_type": "markdown",
   "metadata": {}
  },
  {
   "cell_type": "code",
   "execution_count": null,
   "metadata": {},
   "outputs": [],
   "source": [
    "def isPalindrome(head: ListNode) -> bool:\n",
    "\n",
    "    rev = None \n",
    "    fast = slow = head \n",
    "\n",
    "    while fast and fast.next: # and 문은 앞 조건이 false면 바로 탈출. \n",
    "        fast = fast.next.next\n",
    "        rev, rev.next, slow = slow, rev, slow.next # 삼중 할당을 하지 않으면 파이썬의 객체 참조 규칙 때문에 오류가 뜬다. \n",
    "    if fast:\n",
    "        slow = slow.next \n",
    "\n",
    "    while rev and rev.val == slow.val:\n",
    "        slow, rev = slow.next, rev.next \n",
    "\n",
    "    return not rev "
   ]
  },
  {
   "source": [
    "`rev, rev.next, slow = slow, rev, slow.next` : 삼중 할당을 하지 않으면 파이썬의 객체 참조 규칙 때문에 오류가 뜬다. "
   ],
   "cell_type": "markdown",
   "metadata": {}
  },
  {
   "source": [
    "## 두 정렬 리스트의 병합"
   ],
   "cell_type": "markdown",
   "metadata": {}
  },
  {
   "cell_type": "code",
   "execution_count": null,
   "metadata": {},
   "outputs": [],
   "source": [
    "def mergeTwoLists(l1: ListNode, l2: ListNode) -> ListNode:\n",
    "    if (not l1) or (l2 and l1.val > l2.val): # l1 존재 안하면 pass, l2는 존재하면 비교하고 존재 안하면 pass \n",
    "        l1, l2 = l2, l1 \n",
    "    if l1:\n",
    "        l1.next = mergeTwoLists(l1.next, l2)\n",
    "    return l1"
   ]
  },
  {
   "source": [
    "## 역순 연결 리스트 "
   ],
   "cell_type": "markdown",
   "metadata": {}
  },
  {
   "source": [
    "### 재귀 "
   ],
   "cell_type": "markdown",
   "metadata": {}
  },
  {
   "cell_type": "code",
   "execution_count": null,
   "metadata": {},
   "outputs": [],
   "source": [
    "def reverseList(head: ListNode) -> ListNode:\n",
    "    "
   ]
  },
  {
   "source": [
    "### 반복 "
   ],
   "cell_type": "markdown",
   "metadata": {}
  },
  {
   "cell_type": "code",
   "execution_count": null,
   "metadata": {},
   "outputs": [],
   "source": [
    "def reverseList(head: ListNode) -> ListNode:\n",
    "    node, prev = head, None \n",
    "\n",
    "    while node: \n",
    "        next, node.next = node.next, prev \n",
    "        prev, node = node, next \n",
    "\n",
    "    return prev "
   ]
  },
  {
   "cell_type": "code",
   "execution_count": null,
   "metadata": {},
   "outputs": [],
   "source": [
    "def swapPairs(self, head: ListNode) -> ListNode:\n",
    "    \n",
    "    while head and head.next:\n",
    "        head.val, head.next.val = head.next.val, head.val \n",
    "        head = head.next.next \n",
    "        \n",
    "    return head"
   ]
  },
  {
   "source": [
    "# 스택, 큐"
   ],
   "cell_type": "markdown",
   "metadata": {}
  },
  {
   "source": [
    "파이썬은 스택 자료형을 별도로 제공하지는 않지만, 리스트가 사실상 스택의 모든 연산을 지원한다. 큐 또한 마찬가지다. 큐의 모든 연산을 지원한다. 다만 리스트는 동적 배열로 구현되어 있어 큐의 연산을 수행하기에는 효율적이지 않기 때문에, 큐를 위해서는 Deque라는 별도의 자료형을 사용해야 좋은 성능을 낼 수 있다. \n",
    "\n",
    "Stack은 다음과 같은 2가지 주요 연산을 지원하는 요소의 컬렉션으로 사용되는 추상 자료형이다. \n",
    "\n",
    "- push(): 요소를 컬렉션에 추가한다.\n",
    "- pop(): 아직 제거되지 않은 가장 최근에 삽입된 요소를 제거한다. \n",
    "\n",
    "컴파일러가 출력하는 에러도 스택처럼 맨 마지막 에러가 가장 먼저 출력되는 순서를 보인다. 또한 스택은 메모리영역에서 LIFO 형태로 할당하고 접근하는 구조인 아키텍쳐 레벨의 하드웨어 스택의 이름으로도 널리 사용된다. 이외에도 꽉 찬 스택에 요소를 삽입하고자 할 때 스택에 요소가 넘쳐서 에러가 발생하는 것을 Stack Buffer Overflow라고 부른다. \n",
    "\n",
    "스택 추상 자료형 ADT를 연결 리스트로 구현해보자. "
   ],
   "cell_type": "markdown",
   "metadata": {}
  },
  {
   "cell_type": "code",
   "execution_count": null,
   "metadata": {},
   "outputs": [],
   "source": [
    "class Node:\n",
    "    def __init__(self, item, next):\n",
    "        self.item = item \n",
    "        self.next = next \n",
    "\n",
    "class Stack:\n",
    "    def __init__(self):\n",
    "        self.last = None \n",
    "    \n",
    "    def push(self, item):\n",
    "        self.last = Node(item, self.last)\n",
    "\n",
    "    def pop(self):\n",
    "        item = self.last.item \n",
    "        self.last = self.last.next \n",
    "        return item \n"
   ]
  },
  {
   "source": [
    "## 유용한 괄호"
   ],
   "cell_type": "markdown",
   "metadata": {}
  },
  {
   "cell_type": "code",
   "execution_count": 11,
   "metadata": {},
   "outputs": [
    {
     "output_type": "error",
     "ename": "SyntaxError",
     "evalue": "invalid syntax (<ipython-input-11-d42698f522b2>, line 13)",
     "traceback": [
      "\u001b[1;36m  File \u001b[1;32m\"<ipython-input-11-d42698f522b2>\"\u001b[1;36m, line \u001b[1;32m13\u001b[0m\n\u001b[1;33m    elif not stack or table[char] != stack.pop():\u001b[0m\n\u001b[1;37m    ^\u001b[0m\n\u001b[1;31mSyntaxError\u001b[0m\u001b[1;31m:\u001b[0m invalid syntax\n"
     ]
    }
   ],
   "source": [
    "def isValid(s: str) -> bool:\n",
    "    stack = []\n",
    "    table = {\n",
    "        ')': '(',\n",
    "        '}': '{',\n",
    "        ']': '[',\n",
    "    }\n",
    "\n",
    "    for char in s:\n",
    "        if char not in table: \n",
    "            stack.append(char)\n",
    "        elif not stack or table[char] != stack.pop():\n",
    "            return False \n",
    "    return len(stack) == 0\n",
    "        "
   ]
  },
  {
   "source": [
    "같은 타입에 의해서 닫힌다 -> 테이블 생각 \n",
    "제대로된 순서로 닫혀야 한다 -> 스택 생각 "
   ],
   "cell_type": "markdown",
   "metadata": {}
  },
  {
   "source": [
    "## 중복 문자 제거 "
   ],
   "cell_type": "markdown",
   "metadata": {}
  },
  {
   "source": [
    "예제에 대한 제대로 된 이해가 필요하다 "
   ],
   "cell_type": "markdown",
   "metadata": {}
  },
  {
   "cell_type": "code",
   "execution_count": null,
   "metadata": {},
   "outputs": [],
   "source": [
    "def removeDuplicateLetters(self, s: str) -> str:\n",
    "    counter, stack = collections.Counter(s), []\n",
    "\n",
    "    for char in s:\n",
    "        counter[char] -= 1 \n",
    "        if char in stack: # 이미 처리된 문자 스킵 \n",
    "            continue \n",
    "        while stack and char < stack[-1] and counter[stack[-1]]:\n",
    "            stack.pop()\n",
    "        stack.append(char)\n",
    "\n",
    "    return ''.join(stack)"
   ]
  },
  {
   "source": [
    "## 일일 온도 "
   ],
   "cell_type": "markdown",
   "metadata": {}
  },
  {
   "cell_type": "code",
   "execution_count": null,
   "metadata": {},
   "outputs": [],
   "source": [
    "\n",
    "def dailyTemperatures(temperatures: List[int]) -> List[int]:\n",
    "    output = [0] * len(temperatures)\n",
    "    stack = []\n",
    "\n",
    "    for i, t in enumerate(temperatures):\n",
    "\n",
    "        while stack and temperatures[stack[-1]] < t:\n",
    "            stack_idx = stack.pop()\n",
    "            output[stack_idx] = i - stack_idx\n",
    "\n",
    "        stack.append(i)\n",
    "\n",
    "    return output"
   ]
  },
  {
   "source": [
    "## 큐를 이용한 스택 구현 "
   ],
   "cell_type": "markdown",
   "metadata": {}
  },
  {
   "cell_type": "code",
   "execution_count": null,
   "metadata": {},
   "outputs": [],
   "source": [
    "class MyStack:\n",
    "\n",
    "    def __init__(self):\n",
    "        self.q = collections.deque()\n",
    "        \n",
    "\n",
    "    def push(self, x: int) -> None:\n",
    "        self.q.append(x)\n",
    "        # 요소 삽입 후 맨 앞에 두는 상태로 재정렬 \n",
    "        for _ in range(len(self.q) - 1):\n",
    "            self.q.append(self.q.popleft())\n",
    "        \n",
    "\n",
    "    def pop(self) -> int:\n",
    "        return self.q.popleft()\n",
    "        \n",
    "\n",
    "    def top(self) -> int:\n",
    "        return self.q[0]\n",
    "        \n",
    "\n",
    "    def empty(self) -> bool:\n",
    "        return len(self.q) == 0"
   ]
  },
  {
   "source": [
    "# Ch10. 데크, 우선순위 큐"
   ],
   "cell_type": "markdown",
   "metadata": {}
  },
  {
   "source": [
    "Deque는 Double-Ended Queue의 줄임말로, 글자 그대로 양쪽 끝을 모두 추출할 수 있는, 큐를 일반화한 형태의 추상 자료형(ADT)이다. \n",
    "\n",
    "데크는 양쪽에서 삭제와 삽입을 모두 처리할 수 있으며, 스택과 큐의 특징을 모두 갖고 있다. Doubled Linked List로 구현한다. \n",
    "\n",
    "우선순위 큐는 큐 또는 스택과 같은 추상 자료형과 유사하지만 추가로 각 요소의 우선순위와 연관되어 있다. 우선순위 큐는 어떠한 특정 조건에 따라 우선순위가 가장 높은 요소가 추출되는 자료형이다. "
   ],
   "cell_type": "markdown",
   "metadata": {}
  },
  {
   "source": [
    "## K개 정렬 리스트 병합"
   ],
   "cell_type": "markdown",
   "metadata": {}
  },
  {
   "cell_type": "code",
   "execution_count": 1,
   "metadata": {},
   "outputs": [
    {
     "output_type": "error",
     "ename": "NameError",
     "evalue": "name '합' is not defined",
     "traceback": [
      "\u001b[1;31m---------------------------------------------------------------------------\u001b[0m",
      "\u001b[1;31mNameError\u001b[0m                                 Traceback (most recent call last)",
      "\u001b[1;32m<ipython-input-1-db7251797ee3>\u001b[0m in \u001b[0;36m<module>\u001b[1;34m\u001b[0m\n\u001b[1;32m----> 1\u001b[1;33m \u001b[0m합\u001b[0m\u001b[1;33m\u001b[0m\u001b[1;33m\u001b[0m\u001b[0m\n\u001b[0m",
      "\u001b[1;31mNameError\u001b[0m: name '합' is not defined"
     ]
    }
   ],
   "source": [
    "def mergeKLists(lists: List[ListNode]) -> ListNode:\n",
    "    root = result = ListNode(None)\n",
    "    heap = []\n",
    "\n",
    "    # 각 연결 리스트의 루트를 힙에 저장 \n",
    "    for i in range(len(lists)):\n",
    "        if lists[i]:\n",
    "            heapq.heappush(heap, (lists[i].val, i, lists[i]))\n",
    "\n",
    "    while heap:\n",
    "        node = heapq.heappop(heap)\n",
    "        idx = node[1]\n",
    "        result.next = node[2]\n",
    "\n",
    "        result = result.next \n",
    "        if result.next:\n",
    "            heapq.heappush(heap, (result.next.val, idx, result.next))\n",
    "\n",
    "    return root.next "
   ]
  },
  {
   "source": [
    "# Ch11. 해시 테이블 "
   ],
   "cell_type": "markdown",
   "metadata": {}
  },
  {
   "source": [
    "해시 테이블 또는 해시 맵은 키를 값에 매핑할 수 있는 구조인, 연관 배열 추상 자료형(ADT)을 구현하는 자료구조다. 해시 테이블의 가장 큰 특징은 대부분의 연산이 분할 상환 분석에 따른 시간 복잡도가 O(1)이라는 점이다. 해시 함수란 임의 크기 데이터를 고정 크기 값으로 매핑하는 데 사용할 수 있는 함수를 말한다. 해시 테이블을 인덱싱하기 위해 해시 함수를 사용하는 것을 해싱이라 하며, 해싱은 정보를 가능한 한 빠르게 저장하고 검색하기 위해 사용하는 주용한 기법 중 하나다. 해싱은 최적의 검색이 필요한 분야에 사용되며, 심볼 테이블(일반적으로 해시 테이블로 구현된다)등의 자료구조를 구현하기에도 적합하다. \n",
    "\n",
    "성능 좋은 해시 함수들의 특징은 다음과 같다.\n",
    "\n",
    "- 해시 함수 값 충돌의 최소화\n",
    "- 쉽고 빠른 연산 \n",
    "- 해시 테이블 전체에 해시 값이 균일하게 분포 \n",
    "- 사용할 키의 모든 정보를 이용하여 해싱 \n",
    "- 해시 테이블 사용 효율이 높을 것 \n",
    "\n",
    "비둘기집 원리란, n개 아이템을 m개 컨테이너에 넣을 때, n > m이라면 적어도 하나의 컨테이너에는 반드시 2개 이상의 아이템이 들어 있다는 원리를 말한다. \n",
    "\n",
    "로드 팩터(load factor)란 해시 테이블에 저장된 데이터 개수 n을 버킷의 개수 k로 나눈 것이다. 로드 팩터 비율에 따라서 해시 함수를 재작성해야 될지 또는 해시 테이블의 크기를 조정해야 할지를 결정한다. 또한 이 값은 해시 함수가 키들을 잘 분산해 주는지를 말하는 효율성 측정에도 사용된다. "
   ],
   "cell_type": "markdown",
   "metadata": {}
  },
  {
   "cell_type": "code",
   "execution_count": null,
   "metadata": {},
   "outputs": [],
   "source": [
    "\"\"\"\n",
    "- collections.defaultdict(ListNode)\n",
    "\n",
    "존재하지 않는 키를 조회할 경우 자동으로 ListNode의 __init__을 참조하여 생성 \n",
    "\"\"\"\n",
    "\n",
    "import collections\n",
    "\n",
    "\n",
    "class ListNode:\n",
    "    def __init__(self, key=None, value=None):\n",
    "        self.key = key\n",
    "        self.value = value\n",
    "        self.next = None\n",
    "\n",
    "\n",
    "class MyHashMap:\n",
    "    def __init__(self):\n",
    "        self.size = 1000\n",
    "        self.table = collections.defaultdict(ListNode)\n",
    "\n",
    "    def put(self, key: int, value: int) -> None:\n",
    "        index = key % self.size\n",
    "\n",
    "        if self.table[index].value is None:  # self.table[index] 자체는 존재함\n",
    "            self.table[index] = ListNode(key, value)\n",
    "            return\n",
    "\n",
    "        # solve hash collision by separate chaining\n",
    "        p = self.table[index]\n",
    "        while p:\n",
    "            if p.key == key:  # key가 같은데 value가 다르면 update\n",
    "                p.value = value\n",
    "                return\n",
    "            if p.next is None:  # 없으면 마지막 반복에서 에러\n",
    "                break\n",
    "            p = p.next\n",
    "        p.next = ListNode(key, value)\n",
    "\n",
    "    def get(self, key: int) -> int:\n",
    "        index = key % self.size\n",
    "\n",
    "        if self.table[index].value is None:\n",
    "            return -1\n",
    "\n",
    "        p = self.table[index]\n",
    "        while p:\n",
    "            if p.key == key:\n",
    "                return p.value\n",
    "            p = p.next\n",
    "        return -1\n",
    "\n",
    "    def remove(self, key: int) -> None:\n",
    "        index = key % self.size\n",
    "        if self.table[index].value is None:\n",
    "            return\n",
    "\n",
    "        # 인덱스의 첫 번재 노드일 때 삭제 처리\n",
    "        p = self.table[index]\n",
    "        if p.key == key:\n",
    "            self.table[index] = ListNode() if p.next is None else p.next\n",
    "            return\n",
    "\n",
    "        # 연결 리스트 노드 삭제\n",
    "        prev = p\n",
    "        while p:\n",
    "            if p.key == key:\n",
    "                prev.next = p.next\n",
    "                return\n",
    "            prev, p = p, p.next\n"
   ]
  },
  {
   "source": [
    "## 보석과 돌 "
   ],
   "cell_type": "markdown",
   "metadata": {}
  },
  {
   "cell_type": "code",
   "execution_count": 5,
   "metadata": {},
   "outputs": [
    {
     "output_type": "execute_result",
     "data": {
      "text/plain": [
       "[True, True, False, False, True, False, False, True, True, True]"
      ]
     },
     "metadata": {},
     "execution_count": 5
    }
   ],
   "source": [
    "S = \"aJ\" \n",
    "C = \"aJopatAJaJ\"\n",
    "\n",
    "[c in S for c in C]"
   ]
  },
  {
   "source": [
    "## 중복 문자 없는 가장 긴 부분 문자열 "
   ],
   "cell_type": "markdown",
   "metadata": {}
  },
  {
   "cell_type": "code",
   "execution_count": null,
   "metadata": {},
   "outputs": [],
   "source": [
    "class Solution:\n",
    "    def lengthOfLongestSubstring(self, s: str) -> int:\n",
    "        used = {}\n",
    "        max_length = start = 0\n",
    "        for index, char in enumerate(s):\n",
    "            # 이미 등장했던 문자라면 'start' 위치 갱신\n",
    "            if char in used and start <= used[char]:\n",
    "                start = used[char] + 1\n",
    "            else:\n",
    "                max_length = max(max_length, index - start + 1)\n",
    "\n",
    "            # 현재 문자의 위치 삽입\n",
    "            used[char] = index\n",
    "\n",
    "        return max_length"
   ]
  },
  {
   "source": [
    "## 상위 K빈도 요소 "
   ],
   "cell_type": "markdown",
   "metadata": {}
  },
  {
   "source": [
    "# 그래프"
   ],
   "cell_type": "markdown",
   "metadata": {}
  },
  {
   "source": [
    "## 섬의 개수"
   ],
   "cell_type": "markdown",
   "metadata": {}
  },
  {
   "cell_type": "code",
   "execution_count": null,
   "metadata": {},
   "outputs": [],
   "source": [
    "class Solution:\n",
    "    def numIslands(self, grid: List[List[str]]) -> int:\n",
    "        def dfs(i, j):\n",
    "            if i < 0 or j >= len(grid) or \\\n",
    "                j < 0 or i >= len(grid[0]) or \\\n",
    "                    grid[i][j] != '1':\n",
    "                    return \n",
    "            grid[i][j] = '0'\n",
    "        \n",
    "            dfs(i + 1, j)\n",
    "            dfs(i - 1, j)\n",
    "            dfs(i, j + 1)\n",
    "            dfs(i, j - 1)\n",
    "        \n",
    "        count = 0 \n",
    "        for i in range(len(grid)):\n",
    "            for j in range(len(grid[0])):\n",
    "                if grid[i][j] == 1:\n",
    "                    dfs(i, j)\n",
    "                    count += 1 \n",
    "\n",
    "        return count \n"
   ]
  },
  {
   "source": [
    "## 전화 번호 문자 조합 "
   ],
   "cell_type": "markdown",
   "metadata": {}
  },
  {
   "source": [
    "itertools.product & functools.reduce 사용 "
   ],
   "cell_type": "markdown",
   "metadata": {}
  },
  {
   "cell_type": "code",
   "execution_count": 56,
   "metadata": {},
   "outputs": [],
   "source": [
    "import itertools\n",
    "from functools import reduce\n",
    "\n",
    "class Solution:\n",
    "    def letterCombinations(self, digits: str):\n",
    "        \n",
    "        if not digits:\n",
    "            return []\n",
    "\n",
    "        dic = {\n",
    "            \"2\": \"abc\",\n",
    "            \"3\": \"def\",\n",
    "            \"4\": \"ghi\",\n",
    "            \"5\": \"jkl\",\n",
    "            \"6\": \"mno\",\n",
    "            \"7\": \"pqrs\",\n",
    "            \"8\": \"tuv\",\n",
    "            \"9\": \"wxyz\",\n",
    "        }\n",
    "\n",
    "        digits_list =  [dic[x] for x in digits]\n",
    "        result = []\n",
    "\n",
    "        for x in itertools.product(*digits_list):\n",
    "            total = reduce(lambda a, b: a + b, x)\n",
    "            result.append(total)\n",
    "\n",
    "        return result"
   ]
  },
  {
   "cell_type": "code",
   "execution_count": 57,
   "metadata": {},
   "outputs": [
    {
     "output_type": "stream",
     "name": "stdout",
     "text": [
      "['a', 'b', 'c']\n"
     ]
    }
   ],
   "source": [
    "sol = Solution()\n",
    "print(sol.letterCombinations(\"2\"))\n"
   ]
  },
  {
   "source": [
    "백트래킹"
   ],
   "cell_type": "markdown",
   "metadata": {}
  },
  {
   "cell_type": "code",
   "execution_count": null,
   "metadata": {},
   "outputs": [],
   "source": [
    "from typing import List\n",
    "\n",
    "\n",
    "class Solution:\n",
    "    def letterCombinations(self, digits: str) -> List[str]:\n",
    "        def dfs(index, path):\n",
    "            # 끝까지 탐색하면 백트래킹\n",
    "            if len(path) == len(digits):\n",
    "                result.append(path)\n",
    "                return\n",
    "\n",
    "            # 입력값 자릿수 단위 반복\n",
    "            for i in range(index, len(digits)):\n",
    "                # 숫자에 해당하는 모든 문자열 반복\n",
    "                for j in dic[digits[i]]:\n",
    "                    dfs(i + 1, path + j)\n",
    "\n",
    "        # 예외 처리\n",
    "        if not digits:\n",
    "            return []\n",
    "\n",
    "        dic = {\"2\": \"abc\", \"3\": \"def\", \"4\": \"ghi\", \"5\": \"jkl\",\n",
    "               \"6\": \"mno\", \"7\": \"pqrs\", \"8\": \"tuv\", \"9\": \"wxyz\"}\n",
    "        result = []\n",
    "        dfs(0, \"\")\n",
    "\n",
    "        return result"
   ]
  },
  {
   "source": [
    "## 조합의 합"
   ],
   "cell_type": "markdown",
   "metadata": {}
  },
  {
   "cell_type": "code",
   "execution_count": 71,
   "metadata": {},
   "outputs": [
    {
     "output_type": "execute_result",
     "data": {
      "text/plain": [
       "[(2, 2),\n",
       " (2, 3),\n",
       " (2, 6),\n",
       " (2, 7),\n",
       " (3, 3),\n",
       " (3, 6),\n",
       " (3, 7),\n",
       " (6, 6),\n",
       " (6, 7),\n",
       " (7, 7)]"
      ]
     },
     "metadata": {},
     "execution_count": 71
    }
   ],
   "source": [
    "candidates = [2, 3, 6, 7]\n",
    "target = 8 \n",
    "\n",
    "\n",
    "\n",
    "list(itertools.combinations_with_replacement(candidates, 2))"
   ]
  },
  {
   "cell_type": "code",
   "execution_count": null,
   "metadata": {},
   "outputs": [],
   "source": [
    "\n"
   ]
  }
 ]
}